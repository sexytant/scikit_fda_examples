{
  "cells": [
    {
      "cell_type": "code",
      "execution_count": null,
      "metadata": {
        "collapsed": false
      },
      "outputs": [],
      "source": [
        "%matplotlib inline"
      ]
    },
    {
      "cell_type": "markdown",
      "metadata": {},
      "source": [
        "\n# One-way functional ANOVA with real data\n\nThis example shows how to perform a functional one-way ANOVA test using a\nreal dataset.\n"
      ]
    },
    {
      "cell_type": "code",
      "execution_count": null,
      "metadata": {
        "collapsed": false
      },
      "outputs": [],
      "source": [
        "# Author: David Garc\u00eda Fern\u00e1ndez\n# License: MIT\n\n# sphinx_gallery_thumbnail_number = 4\n\nimport skfda\nfrom skfda.inference.anova import oneway_anova\nfrom skfda.representation import FDataGrid, FDataBasis\nfrom skfda.representation.basis import Fourier"
      ]
    },
    {
      "cell_type": "markdown",
      "metadata": {},
      "source": [
        "*One-way ANOVA* (analysis of variance) is a test that can be used to\ncompare the means of different samples of data.\nLet $X_{ij}(t), j=1, \\dots, n_i$ be trajectories corresponding to\n$k$ independent samples $(i=1,\\dots,k)$ and let $E(X_i(t)) =\nm_i(t)$. Thus, the null hypothesis in the statistical test is:\n\n\\begin{align}H_0: m_1(t) = \\dots = m_k(t)\\end{align}\n\nTo illustrate this functionality we are going to explore the data available\nin GAIT dataset from *fda* R library. This dataset compiles a set of angles\nof hips and knees from 39 different boys in a 20 point movement cycle.\n\n"
      ]
    },
    {
      "cell_type": "code",
      "execution_count": null,
      "metadata": {
        "collapsed": false
      },
      "outputs": [],
      "source": [
        "dataset = skfda.datasets.fetch_gait()\nfd_hip = dataset['data'].coordinates[0]\nfd_knee = dataset['data'].coordinates[1].to_basis(Fourier(n_basis=10))"
      ]
    },
    {
      "cell_type": "markdown",
      "metadata": {},
      "source": [
        "Let's start with the first feature, the angle of the hip. The sample\nconsists in 39 different trajectories, each representing the movement of the\nhip of each of the boys studied.\n\n"
      ]
    },
    {
      "cell_type": "code",
      "execution_count": null,
      "metadata": {
        "collapsed": false
      },
      "outputs": [],
      "source": [
        "fig = fd_hip.plot()"
      ]
    },
    {
      "cell_type": "markdown",
      "metadata": {},
      "source": [
        "The example is going to be divided in three different groups. Then we are\ngoing to apply the ANOVA procedure to this groups to test if the means of this\nthree groups are equal or not.\n\n"
      ]
    },
    {
      "cell_type": "code",
      "execution_count": null,
      "metadata": {
        "collapsed": false
      },
      "outputs": [],
      "source": [
        "fd_hip1 = fd_hip[0:13]\nfd_hip2 = fd_hip[13:26]\nfd_hip3 = fd_hip[26:39]\nfd_hip.plot(group=[0 if i < 13 else 1 if i < 26 else 39 for i in range(39)])\n\nmeans = [fd_hip1.mean(), fd_hip2.mean(), fd_hip3.mean()]\nfd_means = skfda.concatenate(means)\nfig = fd_means.plot()"
      ]
    },
    {
      "cell_type": "markdown",
      "metadata": {},
      "source": [
        "At this point is time to perform the *ANOVA* test. This functionality is\nimplemented in the function :func:`~skfda.inference.anova.oneway_anova`. As\nit consists in an asymptotic method it is possible to set the number of\nsimulations necessary to approximate the result of the statistic. It is\npossible to set the $p$ of the $L_p$ norm used in the\ncalculations (defaults 2).\n\n"
      ]
    },
    {
      "cell_type": "code",
      "execution_count": null,
      "metadata": {
        "collapsed": false
      },
      "outputs": [],
      "source": [
        "v_n, p_val = oneway_anova(fd_hip1, fd_hip2, fd_hip3)"
      ]
    },
    {
      "cell_type": "markdown",
      "metadata": {},
      "source": [
        "The function returns first the statistic :func:`~skfda.inference.anova\n.v_sample_stat` used to measure the variability between groups,\nsecond the *p-value* of the test . For further information visit\n:func:`~skfda.inference.anova.oneway_anova` and [1].\n\n"
      ]
    },
    {
      "cell_type": "code",
      "execution_count": null,
      "metadata": {
        "collapsed": false
      },
      "outputs": [],
      "source": [
        "print('Statistic: ', v_n)\nprint('p-value: ', p_val)"
      ]
    },
    {
      "cell_type": "markdown",
      "metadata": {},
      "source": [
        "This was the simplest way to call this function. Let's see another example,\nthis time using knee angles, this time with data in basis representation.\n\n"
      ]
    },
    {
      "cell_type": "code",
      "execution_count": null,
      "metadata": {
        "collapsed": false
      },
      "outputs": [],
      "source": [
        "fig = fd_knee.plot()"
      ]
    },
    {
      "cell_type": "markdown",
      "metadata": {},
      "source": [
        "The same procedure as before is followed to prepare the data.\n\n"
      ]
    },
    {
      "cell_type": "code",
      "execution_count": null,
      "metadata": {
        "collapsed": false
      },
      "outputs": [],
      "source": [
        "fd_knee1 = fd_knee[0:13]\nfd_knee2 = fd_knee[13:26]\nfd_knee3 = fd_knee[26:39]\nfd_knee.plot(group=[0 if i < 13 else 1 if i < 26 else 39 for i in range(39)])\n\nmeans = [fd_knee1.mean(), fd_knee2.mean(), fd_knee3.mean()]\nfd_means = skfda.concatenate(means)\nfig = fd_means.plot()"
      ]
    },
    {
      "cell_type": "markdown",
      "metadata": {},
      "source": [
        "In this case the optional arguments of the function are going to be set.\nFirst, there is a `n_reps` parameter, which allows the user to select the\nnumber of simulations to perform in the asymptotic procedure of the test (\nsee :func:`~skfda.inference.anova.oneway_anova`), defaults to 2000.\n\nAlso there is a `p` parameter to choose the $p$ of the\n$L_p$ norm used in the calculations (defaults 2).\n\nFinally we can set to True the flag `dist` which allows the function to\nreturn a third value. This third return value corresponds to the\nsampling distribution of the statistic which is compared with the first\nreturn to get the *p-value*.\n\n"
      ]
    },
    {
      "cell_type": "code",
      "execution_count": null,
      "metadata": {
        "collapsed": false
      },
      "outputs": [],
      "source": [
        "v_n, p_val, dist = oneway_anova(fd_knee1, fd_knee2, fd_knee3, n_reps=1500,\n                                return_dist=True)\n\nprint('Statistic: ', v_n)\nprint('p-value: ', p_val)\nprint('Distribution: ', dist)"
      ]
    },
    {
      "cell_type": "markdown",
      "metadata": {},
      "source": [
        "**References:**\n\n [1] Antonio Cuevas, Manuel Febrero-Bande, and Ricardo Fraiman. \"An anova test\n for functional data\". *Computational Statistics  Data Analysis*,\n 47:111-112, 02 2004\n\n"
      ]
    }
  ],
  "metadata": {
    "kernelspec": {
      "display_name": "Python 3",
      "language": "python",
      "name": "python3"
    },
    "language_info": {
      "codemirror_mode": {
        "name": "ipython",
        "version": 3
      },
      "file_extension": ".py",
      "mimetype": "text/x-python",
      "name": "python",
      "nbconvert_exporter": "python",
      "pygments_lexer": "ipython3",
      "version": "3.7.9"
    }
  },
  "nbformat": 4,
  "nbformat_minor": 0
}