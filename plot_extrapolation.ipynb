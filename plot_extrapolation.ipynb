{
  "cells": [
    {
      "cell_type": "code",
      "execution_count": null,
      "metadata": {
        "collapsed": false
      },
      "outputs": [],
      "source": [
        "%matplotlib inline"
      ]
    },
    {
      "cell_type": "markdown",
      "metadata": {},
      "source": [
        "\n# Extrapolation\n\nShows the usage of the different types of extrapolation.\n"
      ]
    },
    {
      "cell_type": "code",
      "execution_count": null,
      "metadata": {
        "collapsed": false
      },
      "outputs": [],
      "source": [
        "# Author: Pablo Marcos Manch\u00f3n\n# License: MIT\n\n# sphinx_gallery_thumbnail_number = 2\n\nimport skfda\n\nimport mpl_toolkits.mplot3d\n\nimport matplotlib.pyplot as plt\nimport numpy as np"
      ]
    },
    {
      "cell_type": "markdown",
      "metadata": {},
      "source": [
        "The extrapolation defines how to evaluate points that are\noutside the domain range of a\n:class:`~skfda.representation.basis.FDataBasis` or a\n:class:`~skfda.representation.grid.FDataGrid`.\n\nThe :class:`~skfda.representation.basis.FDataBasis` objects have a\npredefined extrapolation which is applied in\n:class:`~skfda.representation.basis.FDataBasis.evaluate`\nif the argument ``extrapolation`` is not supplied. This default value\ncould be specified when the object is created or changing the\nattribute ``extrapolation``.\n\nThe extrapolation could be specified by a string with the short name of an\nextrapolator or with an\n:class:\u00b4~skfda.representation.extrapolation.Extrapolator\u00b4.\n\nTo show how it works we will create a dataset with two unidimensional curves\ndefined in (0,1), and we will represent it using a grid and different types\nof basis.\n\n\n"
      ]
    },
    {
      "cell_type": "code",
      "execution_count": null,
      "metadata": {
        "collapsed": false
      },
      "outputs": [],
      "source": [
        "fdgrid = skfda.datasets.make_sinusoidal_process(\n    n_samples=2, error_std=0, random_state=0)\nfdgrid.dataset_name = \"Grid\"\n\nfd_fourier = fdgrid.to_basis(skfda.representation.basis.Fourier())\nfd_fourier.dataset_name = \"Fourier Basis\"\n\nfd_monomial = fdgrid.to_basis(skfda.representation.basis.Monomial(n_basis=5))\nfd_monomial.dataset_name = \"Monomial Basis\"\n\nfd_bspline = fdgrid.to_basis(skfda.representation.basis.BSpline(n_basis=5))\nfd_bspline.dataset_name = \"BSpline Basis\"\n\n\n# Plot of diferent representations\nfig, ax = plt.subplots(2, 2)\nfdgrid.plot(ax[0][0])\nfd_fourier.plot(ax[0][1])\nfd_monomial.plot(ax[1][0])\nfd_bspline.plot(ax[1][1])\n\n# Disable xticks of first row\nax[0][0].set_xticks([])\nax[0][1].set_xticks([])\n\n# Clear title for next plots\nfdgrid.dataset_name = \"\""
      ]
    },
    {
      "cell_type": "markdown",
      "metadata": {},
      "source": [
        "If the extrapolation is not specified when a list of points is evaluated and\nthe default extrapolation of the objects has not been specified it is used\nthe type `\"none\"`, which will evaluate the points outside the domain without\nany kind of control.\n\nFor this reason the behavior outside the domain will change depending on the\nrepresentation, obtaining a periodic behavior in the case of the Fourier\nbasis and polynomial behaviors in the rest of the cases.\n\n\n"
      ]
    },
    {
      "cell_type": "code",
      "execution_count": null,
      "metadata": {
        "collapsed": false
      },
      "outputs": [],
      "source": [
        "domain_extended = (-0.2, 1.2)\n\nfig, ax = plt.subplots(2, 2)\n\n\n# Plot objects in the domain range extended\nfdgrid.plot(ax[0][0], domain_range=domain_extended, linestyle='--')\nfd_fourier.plot(ax[0][1], domain_range=domain_extended, linestyle='--')\nfd_monomial.plot(ax[1][0], domain_range=domain_extended, linestyle='--')\nfd_bspline.plot(ax[1][1], domain_range=domain_extended, linestyle='--')\n\n# Plot configuration\nfor axes in fig.axes:\n    axes.set_prop_cycle(None)\n    axes.set_ylim((-1.5, 1.5))\n    axes.set_xlim((-0.25, 1.25))\n\n# Disable xticks of first row\nax[0][0].set_xticks([])\nax[0][1].set_xticks([])\n\n# Plot objects in the domain range\nfdgrid.plot(ax[0][0])\nfd_fourier.plot(ax[0][1])\nfd_monomial.plot(ax[1][0])\nfd_bspline.plot(ax[1][1])"
      ]
    },
    {
      "cell_type": "markdown",
      "metadata": {},
      "source": [
        "Periodic extrapolation will extend the domain range periodically.\nThe following example shows the periodical extension of an FDataGrid.\n\nIt should be noted that the Fourier basis is periodic in itself, but the\nperiod does not have to coincide with the domain range, obtaining different\nresults applying or not extrapolation in case of not coinciding.\n\n\n"
      ]
    },
    {
      "cell_type": "code",
      "execution_count": null,
      "metadata": {
        "collapsed": false
      },
      "outputs": [],
      "source": [
        "t = np.linspace(*domain_extended)\n\nfig = plt.figure()\nfdgrid.dataset_name = \"Periodic extrapolation\"\n\n# Evaluation of the grid\n# Extrapolation supplied in the evaluation\nvalues = fdgrid(t, extrapolation=\"periodic\")[..., 0]\n\nplt.plot(t, values.T, linestyle='--')\n\nplt.gca().set_prop_cycle(None)  # Reset color cycle\n\nfdgrid.plot(fig=fig)  # Plot dataset"
      ]
    },
    {
      "cell_type": "markdown",
      "metadata": {},
      "source": [
        "Another possible extrapolation, ``\"bounds\"``, will use the values of the\ninterval bounds for points outside the domain range.\n\n\n"
      ]
    },
    {
      "cell_type": "code",
      "execution_count": null,
      "metadata": {
        "collapsed": false
      },
      "outputs": [],
      "source": [
        "fig = plt.figure()\nfdgrid.dataset_name = \"Boundary extrapolation\"\n\n# Other way to call the extrapolation, changing the default value\nfdgrid.extrapolation = \"bounds\"\n\n# Evaluation of the grid\nvalues = fdgrid(t)[..., 0]\nplt.plot(t, values.T, linestyle='--')\n\nplt.gca().set_prop_cycle(None)  # Reset color cycle\n\nfdgrid.plot(fig=fig)  # Plot dataset"
      ]
    },
    {
      "cell_type": "markdown",
      "metadata": {},
      "source": [
        "The :class:`~skfda.representation.extrapolation.FillExtrapolation` will fill\nthe points extrapolated with the same value. The case of filling with zeros\ncould be specified with the string ``\"zeros\"``, which is equivalent to\n``extrapolation=FillExtrapolation(0)``.\n\n\n"
      ]
    },
    {
      "cell_type": "code",
      "execution_count": null,
      "metadata": {
        "collapsed": false
      },
      "outputs": [],
      "source": [
        "fdgrid.dataset_name = \"Fill with zeros\"\n\n# Evaluation of the grid filling with zeros\nfdgrid.extrapolation = \"zeros\"\n\n# Plot in domain extended\nfig = fdgrid.plot(domain_range=domain_extended, linestyle='--')\n\nplt.gca().set_prop_cycle(None)  # Reset color cycle\n\nfdgrid.plot(fig=fig)  # Plot dataset"
      ]
    },
    {
      "cell_type": "markdown",
      "metadata": {},
      "source": [
        "The string ``\"nan\"`` is equivalent to ``FillExtrapolation(np.nan)``.\n\n\n"
      ]
    },
    {
      "cell_type": "code",
      "execution_count": null,
      "metadata": {
        "collapsed": false
      },
      "outputs": [],
      "source": [
        "values = fdgrid([-1, 0, 0.5, 1, 2], extrapolation=\"nan\")\nprint(values)"
      ]
    },
    {
      "cell_type": "markdown",
      "metadata": {},
      "source": [
        "It is possible to configure the extrapolation to raise an exception in case\nof evaluating a point outside the domain.\n\n\n"
      ]
    },
    {
      "cell_type": "code",
      "execution_count": null,
      "metadata": {
        "collapsed": false
      },
      "outputs": [],
      "source": [
        "try:\n    res = fd_fourier(t, extrapolation=\"exception\")\nexcept ValueError as e:\n    print(e)"
      ]
    },
    {
      "cell_type": "markdown",
      "metadata": {},
      "source": [
        "All the extrapolators shown will work with multidimensional objects.\nIn the following example it is constructed a 2d-surface and it is extended\nusing periodic extrapolation.\n\n"
      ]
    },
    {
      "cell_type": "code",
      "execution_count": null,
      "metadata": {
        "collapsed": false
      },
      "outputs": [],
      "source": [
        "fig = plt.figure()\nax = fig.add_subplot(111, projection='3d')\n\n# Make data.\nt = np.arange(-2.5, 2.75, 0.25)\nX, Y = np.meshgrid(t, t)\nZ = np.exp(-0.5 * (X**2 + Y**2))\n\n# Creation of FDataGrid\nfd_surface = skfda.FDataGrid([Z], (t, t))\n\nt = np.arange(-7, 7.5, 0.5)\n\n# Evaluation with periodic extrapolation\nvalues = fd_surface((t, t), grid=True, extrapolation=\"periodic\")\nT, S = np.meshgrid(t, t)\n\n\nax.plot_wireframe(T, S, values[0, ..., 0], alpha=.3, color=\"C0\")\nax.plot_surface(X, Y, Z, color=\"C0\")"
      ]
    },
    {
      "cell_type": "markdown",
      "metadata": {},
      "source": [
        "The previous extension can be compared with the extrapolation using the values\nof the bounds.\n\n"
      ]
    },
    {
      "cell_type": "code",
      "execution_count": null,
      "metadata": {
        "collapsed": false
      },
      "outputs": [],
      "source": [
        "values = fd_surface((t, t), grid=True, extrapolation=\"bounds\")\n\nfig = plt.figure()\nax = fig.add_subplot(111, projection='3d')\nax.plot_wireframe(T, S, values[0, ..., 0], alpha=.3, color=\"C0\")\nax.plot_surface(X, Y, Z, color=\"C0\")"
      ]
    },
    {
      "cell_type": "markdown",
      "metadata": {},
      "source": [
        "Or filling the surface with zeros outside the domain.\n\n"
      ]
    },
    {
      "cell_type": "code",
      "execution_count": null,
      "metadata": {
        "collapsed": false
      },
      "outputs": [],
      "source": [
        "values = fd_surface((t, t), grid=True, extrapolation=\"zeros\")\n\nfig = plt.figure()\nax = fig.add_subplot(111, projection='3d')\nax.plot_wireframe(T, S, values[0, ..., 0], alpha=.3, color=\"C0\")\nax.plot_surface(X, Y, Z, color=\"C0\")"
      ]
    }
  ],
  "metadata": {
    "kernelspec": {
      "display_name": "Python 3",
      "language": "python",
      "name": "python3"
    },
    "language_info": {
      "codemirror_mode": {
        "name": "ipython",
        "version": 3
      },
      "file_extension": ".py",
      "mimetype": "text/x-python",
      "name": "python",
      "nbconvert_exporter": "python",
      "pygments_lexer": "ipython3",
      "version": "3.7.9"
    }
  },
  "nbformat": 4,
  "nbformat_minor": 0
}