{
  "cells": [
    {
      "cell_type": "code",
      "execution_count": null,
      "metadata": {
        "collapsed": false
      },
      "outputs": [],
      "source": [
        "%matplotlib inline"
      ]
    },
    {
      "cell_type": "markdown",
      "metadata": {},
      "source": [
        "\n# Interpolation\n\nThis example shows the types of interpolation used in the evaluation of\nFDataGrids.\n"
      ]
    },
    {
      "cell_type": "code",
      "execution_count": null,
      "metadata": {
        "collapsed": false
      },
      "outputs": [],
      "source": [
        "# Author: Pablo Marcos Manch\u00f3n\n# License: MIT\n\n# sphinx_gallery_thumbnail_number = 3\n\nimport skfda\nfrom skfda.representation.interpolation import SplineInterpolation\n\nfrom mpl_toolkits.mplot3d import axes3d\n\nimport numpy as np"
      ]
    },
    {
      "cell_type": "markdown",
      "metadata": {},
      "source": [
        "The :class:`~skfda.representation.grid.FDataGrid` class is used for datasets\ncontaining discretized functions. For the evaluation between the points of\ndiscretization, or sample points, is necessary to interpolate.\n\nWe will construct an example dataset with two curves with 6 points of\ndiscretization.\n\n\n"
      ]
    },
    {
      "cell_type": "code",
      "execution_count": null,
      "metadata": {
        "collapsed": false
      },
      "outputs": [],
      "source": [
        "fd = skfda.datasets.make_sinusoidal_process(n_samples=2, n_features=6,\n                                            random_state=1)\nfig = fd.scatter()\nfig.legend([\"Sample 1\", \"Sample 2\"])"
      ]
    },
    {
      "cell_type": "markdown",
      "metadata": {},
      "source": [
        "By default it is used linear interpolation, which is one of the simplest\nmethods of interpolation and therefore one of the least computationally\nexpensive, but has the disadvantage that the interpolant is not\ndifferentiable at the points of discretization.\n\n\n"
      ]
    },
    {
      "cell_type": "code",
      "execution_count": null,
      "metadata": {
        "collapsed": false
      },
      "outputs": [],
      "source": [
        "fig = fd.plot()\nfd.scatter(fig=fig)"
      ]
    },
    {
      "cell_type": "markdown",
      "metadata": {},
      "source": [
        "The interpolation method of the FDataGrid could be changed setting the\nattribute ``interpolation``. Once we have set an interpolation it is used for\nthe evaluation of the object.\n\nPolynomial spline interpolation could be performed using the interpolation\n:class:`~skfda.representation.interpolation.SplineInterpolation. In the\nfollowing example a cubic interpolation is set.\n\n"
      ]
    },
    {
      "cell_type": "code",
      "execution_count": null,
      "metadata": {
        "collapsed": false
      },
      "outputs": [],
      "source": [
        "fd.interpolation = SplineInterpolation(interpolation_order=3)\n\nfig = fd.plot()\nfd.scatter(fig=fig)"
      ]
    },
    {
      "cell_type": "markdown",
      "metadata": {},
      "source": [
        "Smooth interpolation could be performed with the attribute\n``smoothness_parameter`` of the spline interpolation.\n\n\n"
      ]
    },
    {
      "cell_type": "code",
      "execution_count": null,
      "metadata": {
        "collapsed": false
      },
      "outputs": [],
      "source": [
        "# Sample with noise\nfd_smooth = skfda.datasets.make_sinusoidal_process(\n    n_samples=1, n_features=30,\n    random_state=1, error_std=.3)\n\n# Cubic interpolation\nfd_smooth.interpolation = SplineInterpolation(interpolation_order=3)\n\nfig = fd_smooth.plot(label=\"Cubic\")\n\n# Smooth interpolation\nfd_smooth.interpolation = SplineInterpolation(interpolation_order=3,\n                                              smoothness_parameter=1.5)\n\nfd_smooth.plot(fig=fig, label=\"Cubic smoothed\")\n\nfd_smooth.scatter(fig=fig)\nfig.legend()"
      ]
    },
    {
      "cell_type": "markdown",
      "metadata": {},
      "source": [
        "Sometimes our samples are required to be monotone, in these cases it is\npossible to use monotone cubic interpolation with the attribute\n``monotone``. A piecewise cubic hermite interpolating polynomial (PCHIP)\nwill be used.\n\n\n"
      ]
    },
    {
      "cell_type": "code",
      "execution_count": null,
      "metadata": {
        "collapsed": false
      },
      "outputs": [],
      "source": [
        "fd = fd[1]\n\nfd_monotone = fd.copy(data_matrix=np.sort(fd.data_matrix, axis=1))\n\n\nfig = fd_monotone.plot(linestyle='--', label=\"cubic\")\n\n\nfd_monotone.interpolation = SplineInterpolation(interpolation_order=3,\n                                                monotone=True)\nfd_monotone.plot(fig=fig, label=\"PCHIP\")\n\nfd_monotone.scatter(fig=fig, c='C1')\nfig.legend()"
      ]
    },
    {
      "cell_type": "markdown",
      "metadata": {},
      "source": [
        "All the interpolations will work regardless of the dimension of the image,\nbut depending on the domain dimension some methods will not be available.\n\nFor the next examples it is constructed a surface,\n$x_i: \\mathbb{R}^2 \\longmapsto \\mathbb{R}$. By default, as in\nunidimensional samples, it is used linear interpolation.\n\n\n"
      ]
    },
    {
      "cell_type": "code",
      "execution_count": null,
      "metadata": {
        "collapsed": false
      },
      "outputs": [],
      "source": [
        "X, Y, Z = axes3d.get_test_data(1.2)\ndata_matrix = [Z.T]\ngrid_points = [X[0, :], Y[:, 0]]\n\n\nfd = skfda.FDataGrid(data_matrix, grid_points)\n\nfig = fd.plot()\nfd.scatter(fig=fig)"
      ]
    },
    {
      "cell_type": "markdown",
      "metadata": {},
      "source": [
        "In the following figure it is shown the result of the cubic interpolation\napplied to the surface.\n\nThe degree of the interpolation polynomial does not have to coincide in both\ndirections, for example, cubic interpolation in the first\ncomponent and quadratic in the second one could be defined  using a tuple\nwith the values (3,2).\n\n\n"
      ]
    },
    {
      "cell_type": "code",
      "execution_count": null,
      "metadata": {
        "collapsed": false
      },
      "outputs": [],
      "source": [
        "fd.interpolation = SplineInterpolation(interpolation_order=3)\n\nfig = fd.plot()\nfd.scatter(fig=fig)"
      ]
    },
    {
      "cell_type": "markdown",
      "metadata": {},
      "source": [
        "The following table shows the interpolation methods available by the class\n:class:`SplineInterpolation` depending on the domain dimension.\n\n+------------------+--------+----------------+----------+-------------+\n| Domain dimension | Linear | Up to degree 5 | Monotone |  Smoothing  |\n+==================+========+================+==========+=============+\n|         1        |   \u2714    |       \u2714        |    \u2714     |      \u2714      |\n+------------------+--------+----------------+----------+-------------+\n|         2        |   \u2714    |       \u2714        |    \u2716     |      \u2714      |\n+------------------+--------+----------------+----------+-------------+\n|     3 or more    |   \u2714    |       \u2716        |    \u2716     |      \u2716      |\n+------------------+--------+----------------+----------+-------------+\n\n\n"
      ]
    }
  ],
  "metadata": {
    "kernelspec": {
      "display_name": "Python 3",
      "language": "python",
      "name": "python3"
    },
    "language_info": {
      "codemirror_mode": {
        "name": "ipython",
        "version": 3
      },
      "file_extension": ".py",
      "mimetype": "text/x-python",
      "name": "python",
      "nbconvert_exporter": "python",
      "pygments_lexer": "ipython3",
      "version": "3.7.9"
    }
  },
  "nbformat": 4,
  "nbformat_minor": 0
}