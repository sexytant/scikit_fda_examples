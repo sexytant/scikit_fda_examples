{
  "cells": [
    {
      "cell_type": "code",
      "execution_count": null,
      "metadata": {
        "collapsed": false
      },
      "outputs": [],
      "source": [
        "%matplotlib inline"
      ]
    },
    {
      "cell_type": "markdown",
      "metadata": {},
      "source": [
        "\n# Shift Registration\n\nShows the use of shift registration applied to a sinusoidal\nprocess represented in a Fourier basis.\n"
      ]
    },
    {
      "cell_type": "code",
      "execution_count": null,
      "metadata": {
        "collapsed": false
      },
      "outputs": [],
      "source": [
        "# Author: Pablo Marcos Manch\u00f3n\n# License: MIT\n\n# sphinx_gallery_thumbnail_number = 3\n\nimport matplotlib.pyplot as plt\n\nfrom skfda.datasets import make_sinusoidal_process\nfrom skfda.preprocessing.registration import LeastSquaresShiftRegistration\nfrom skfda.representation.basis import Fourier"
      ]
    },
    {
      "cell_type": "markdown",
      "metadata": {},
      "source": [
        "In this example we will use a\n:func:`sinusoidal process <skfda.datasets.make_sinusoidal_process>`\nsynthetically generated. This dataset consists in a sinusoidal wave with\nfixed period which contanis phase and amplitude variation with gaussian\nnoise.\n\nIn this example we want to register the curves using a translation\nand remove the phase variation to perform further analysis.\n\n"
      ]
    },
    {
      "cell_type": "code",
      "execution_count": null,
      "metadata": {
        "collapsed": false
      },
      "outputs": [],
      "source": [
        "fd = make_sinusoidal_process(random_state=1)\nfd.plot()"
      ]
    },
    {
      "cell_type": "markdown",
      "metadata": {},
      "source": [
        "We will smooth the curves using a basis representation, which will help us\nto remove the gaussian noise. Smoothing before registration\nis essential due to the use of derivatives in the optimization process.\nBecause of their sinusoidal nature we will use a Fourier basis.\n\n"
      ]
    },
    {
      "cell_type": "code",
      "execution_count": null,
      "metadata": {
        "collapsed": false
      },
      "outputs": [],
      "source": [
        "fd_basis = fd.to_basis(Fourier(n_basis=11))\nfd_basis.plot()"
      ]
    },
    {
      "cell_type": "markdown",
      "metadata": {},
      "source": [
        "We will use the\n:func:`~skfda.preprocessing.registration.LeastSquaresShiftRegistration`\ntransformer, which is suitable due to the periodicity of the dataset and\nthe small amount of amplitude variation.\n\nWe can observe how the sinusoidal pattern is easily distinguishable\nonce the alignment has been made.\n\n"
      ]
    },
    {
      "cell_type": "code",
      "execution_count": null,
      "metadata": {
        "collapsed": false
      },
      "outputs": [],
      "source": [
        "shift_registration = LeastSquaresShiftRegistration()\nfd_registered = shift_registration.fit_transform(fd_basis)\n\nfd_registered.plot()"
      ]
    },
    {
      "cell_type": "markdown",
      "metadata": {},
      "source": [
        "We will plot the mean of the original smoothed curves and the registered\nones, and we will compare with the original sinusoidal process without\nnoise.\n\nWe can see how the phase variation affects to the mean of the original\ncurves varying their amplitude with respect to the original process,\nhowever, this effect is mitigated after the registration.\n\n"
      ]
    },
    {
      "cell_type": "code",
      "execution_count": null,
      "metadata": {
        "collapsed": false
      },
      "outputs": [],
      "source": [
        "# sinusoidal process without variation and noise\nsine = make_sinusoidal_process(\n    n_samples=1,\n    phase_std=0,\n    amplitude_std=0,\n    error_std=0,\n)\n\nfig = fd_basis.mean().plot()\nfd_registered.mean().plot(fig)\nsine.plot(fig, linestyle='dashed')\n\nfig.axes[0].legend(['original mean', 'registered mean', 'sine'])"
      ]
    },
    {
      "cell_type": "markdown",
      "metadata": {},
      "source": [
        "The values of the shifts $\\delta_i$, stored in the attribute `deltas_`\nmay be relevant for further analysis, as they may be considered as nuisance\nor random effects.\n\n"
      ]
    },
    {
      "cell_type": "code",
      "execution_count": null,
      "metadata": {
        "collapsed": false
      },
      "outputs": [],
      "source": [
        "print(shift_registration.deltas_)\n\n\nplt.show()"
      ]
    }
  ],
  "metadata": {
    "kernelspec": {
      "display_name": "Python 3",
      "language": "python",
      "name": "python3"
    },
    "language_info": {
      "codemirror_mode": {
        "name": "ipython",
        "version": 3
      },
      "file_extension": ".py",
      "mimetype": "text/x-python",
      "name": "python",
      "nbconvert_exporter": "python",
      "pygments_lexer": "ipython3",
      "version": "3.7.9"
    }
  },
  "nbformat": 4,
  "nbformat_minor": 0
}