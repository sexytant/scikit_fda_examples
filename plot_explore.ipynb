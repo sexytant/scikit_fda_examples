{
  "cells": [
    {
      "cell_type": "code",
      "execution_count": null,
      "metadata": {
        "collapsed": false
      },
      "outputs": [],
      "source": [
        "%matplotlib inline"
      ]
    },
    {
      "cell_type": "markdown",
      "metadata": {},
      "source": [
        "\n# Exploring data\n\nExplores the Tecator data set by plotting the functional data and calculating\nmeans and derivatives.\n"
      ]
    },
    {
      "cell_type": "code",
      "execution_count": null,
      "metadata": {
        "collapsed": false
      },
      "outputs": [],
      "source": [
        "# Author: Miguel Carbajo Berrocal\n# License: MIT\n\nimport numpy as np\n\nimport skfda"
      ]
    },
    {
      "cell_type": "markdown",
      "metadata": {},
      "source": [
        "In this example we are going to explore the functional properties of the\n:func:`Tecator <skfda.datasets.fetch_tecator>` dataset. This dataset\nmeasures the infrared absorbance spectrum of meat samples. The objective is\nto predict the fat, water, and protein content of the samples.\n\nIn this example we only want to discriminate between meat with less than 20%\nof fat, and meat with a higher fat content.\n\n"
      ]
    },
    {
      "cell_type": "code",
      "execution_count": null,
      "metadata": {
        "collapsed": false
      },
      "outputs": [],
      "source": [
        "X, y = skfda.datasets.fetch_tecator(return_X_y=True, as_frame=True)\nfd = X.iloc[:, 0].values\nfat = y['fat'].values"
      ]
    },
    {
      "cell_type": "markdown",
      "metadata": {},
      "source": [
        "We will now plot in red samples containing less than 20% of fat and in blue\nthe rest.\n\n"
      ]
    },
    {
      "cell_type": "code",
      "execution_count": null,
      "metadata": {
        "collapsed": false
      },
      "outputs": [],
      "source": [
        "low_fat = fat < 20\nlabels = np.full(fd.n_samples, 'high fat')\nlabels[low_fat] = 'low fat'\ncolors = {\n    'high fat': 'red',\n    'low fat': 'blue',\n}\n\nfig = fd.plot(\n    group=labels,\n    group_colors=colors,\n    linewidth=0.5,\n    alpha=0.7,\n    legend=True,\n)"
      ]
    },
    {
      "cell_type": "markdown",
      "metadata": {},
      "source": [
        "The means of each group are the following ones.\n\n"
      ]
    },
    {
      "cell_type": "code",
      "execution_count": null,
      "metadata": {
        "collapsed": false
      },
      "outputs": [],
      "source": [
        "mean_low = skfda.exploratory.stats.mean(fd[low_fat])\nmean_high = skfda.exploratory.stats.mean(fd[~low_fat])\n\nmeans = mean_high.concatenate(mean_low)\n\nmeans.dataset_name = f\"{fd.dataset_name} - means\"\nmeans.plot(\n    group=['high fat', 'low fat'],\n    group_colors=colors,\n    linewidth=0.5,\n    legend=True,\n)"
      ]
    },
    {
      "cell_type": "markdown",
      "metadata": {},
      "source": [
        "In this dataset, the vertical shift in the original trajectories is not\nvery significative for predicting the fat content. However, the shape of the\ncurve is very relevant. We can observe that looking at the first and second\nderivatives.\n\nThe first derivative is shown below:\n\n"
      ]
    },
    {
      "cell_type": "code",
      "execution_count": null,
      "metadata": {
        "collapsed": false
      },
      "outputs": [],
      "source": [
        "fdd = fd.derivative()\nfdd.dataset_name = f\"{fd.dataset_name} - derivative\"\nfig = fdd.plot(\n    group=labels,\n    group_colors=colors,\n    linewidth=0.5,\n    alpha=0.7,\n    legend=True,\n)"
      ]
    },
    {
      "cell_type": "markdown",
      "metadata": {},
      "source": [
        "We now show the second derivative:\n\n"
      ]
    },
    {
      "cell_type": "code",
      "execution_count": null,
      "metadata": {
        "collapsed": false
      },
      "outputs": [],
      "source": [
        "fdd = fd.derivative(order=2)\nfdd.dataset_name = f\"{fd.dataset_name} - second derivative\"\nfig = fdd.plot(\n    group=labels,\n    group_colors=colors,\n    linewidth=0.5,\n    alpha=0.7,\n    legend=True,\n)"
      ]
    }
  ],
  "metadata": {
    "kernelspec": {
      "display_name": "Python 3",
      "language": "python",
      "name": "python3"
    },
    "language_info": {
      "codemirror_mode": {
        "name": "ipython",
        "version": 3
      },
      "file_extension": ".py",
      "mimetype": "text/x-python",
      "name": "python",
      "nbconvert_exporter": "python",
      "pygments_lexer": "ipython3",
      "version": "3.7.9"
    }
  },
  "nbformat": 4,
  "nbformat_minor": 0
}