{
  "cells": [
    {
      "cell_type": "code",
      "execution_count": null,
      "metadata": {
        "collapsed": false
      },
      "outputs": [],
      "source": [
        "%matplotlib inline"
      ]
    },
    {
      "cell_type": "markdown",
      "metadata": {},
      "source": [
        "\n# Representation of functional data\n\nExplores the different representations of functional data.\n"
      ]
    },
    {
      "cell_type": "code",
      "execution_count": null,
      "metadata": {
        "collapsed": false
      },
      "outputs": [],
      "source": [
        "# Author: Carlos Ramos Carre\u00f1o\n# License: MIT\n\nimport skfda\nfrom skfda.representation.interpolation import SplineInterpolation\n\nimport skfda.representation.basis as basis"
      ]
    },
    {
      "cell_type": "markdown",
      "metadata": {},
      "source": [
        "In this example we are going to show the different representations of\nfunctional data available in scikit-fda.\n\nFirst we are going to fetch a functional data dataset, such as the Berkeley\nGrowth Study. This dataset correspond to the height of several boys and\ngirls measured until the 18 years of age. The number and times of the\nmeasurements are the same for each individual.\n\n"
      ]
    },
    {
      "cell_type": "code",
      "execution_count": null,
      "metadata": {
        "collapsed": false
      },
      "outputs": [],
      "source": [
        "dataset = skfda.datasets.fetch_growth()\nfd = dataset['data']\ny = dataset['target']\n\nprint(repr(fd))\n\nfd.plot(group=y, group_colors=['red', 'blue'])"
      ]
    },
    {
      "cell_type": "markdown",
      "metadata": {},
      "source": [
        "This kind of representation is a discretized representation, in which the\nmeasurement points are shared between samples.\n\n"
      ]
    },
    {
      "cell_type": "code",
      "execution_count": null,
      "metadata": {
        "collapsed": false
      },
      "outputs": [],
      "source": [
        "print(fd.grid_points)"
      ]
    },
    {
      "cell_type": "markdown",
      "metadata": {},
      "source": [
        "In this representation, the data can be arranged as a matrix.\n\n"
      ]
    },
    {
      "cell_type": "code",
      "execution_count": null,
      "metadata": {
        "collapsed": false
      },
      "outputs": [],
      "source": [
        "print(fd.data_matrix)"
      ]
    },
    {
      "cell_type": "markdown",
      "metadata": {},
      "source": [
        "By default, the data points are interpolated using a linear interpolation,\nbut this is configurable.\n\n"
      ]
    },
    {
      "cell_type": "code",
      "execution_count": null,
      "metadata": {
        "collapsed": false
      },
      "outputs": [],
      "source": [
        "dataset = skfda.datasets.fetch_medflies()\nfd = dataset['data']\n\nfirst_curve = fd[0]\nfirst_curve.plot()"
      ]
    },
    {
      "cell_type": "markdown",
      "metadata": {},
      "source": [
        "The interpolation used can however be changed. Here, we will use an\ninterpolation with degree 3 splines.\n\n"
      ]
    },
    {
      "cell_type": "code",
      "execution_count": null,
      "metadata": {
        "collapsed": false
      },
      "outputs": [],
      "source": [
        "first_curve.interpolation = SplineInterpolation(3)\nfirst_curve.plot()"
      ]
    },
    {
      "cell_type": "markdown",
      "metadata": {},
      "source": [
        "This representation allows also functions with arbitrary dimensions of the\ndomain and codomain.\n\n"
      ]
    },
    {
      "cell_type": "code",
      "execution_count": null,
      "metadata": {
        "collapsed": false
      },
      "outputs": [],
      "source": [
        "fd = skfda.datasets.make_multimodal_samples(n_samples=1, dim_domain=2,\n                                            dim_codomain=2)\n\nprint(fd.dim_domain)\nprint(fd.dim_codomain)\n\nfd.plot()"
      ]
    },
    {
      "cell_type": "markdown",
      "metadata": {},
      "source": [
        "Another possible representation is a decomposition in a basis of functions.\n$$\nf(t) = \\\\sum_{i=1}^N a_i \\\\phi_i(t)\n$$\nIt is possible to transform between both representations. Let us use again\nthe Berkeley Growth dataset.\n\n"
      ]
    },
    {
      "cell_type": "code",
      "execution_count": null,
      "metadata": {
        "collapsed": false
      },
      "outputs": [],
      "source": [
        "dataset = skfda.datasets.fetch_growth()\nfd = dataset['data']\ny = dataset['target']\n\nfd.plot()"
      ]
    },
    {
      "cell_type": "markdown",
      "metadata": {},
      "source": [
        "We will represent it using a basis of B-splines.\n\n"
      ]
    },
    {
      "cell_type": "code",
      "execution_count": null,
      "metadata": {
        "collapsed": false
      },
      "outputs": [],
      "source": [
        "fd_basis = fd.to_basis(basis.BSpline(n_basis=4))\n\nfd_basis.plot()"
      ]
    },
    {
      "cell_type": "markdown",
      "metadata": {},
      "source": [
        "We can increase the number of elements in the basis to try to reproduce the\noriginal data with more fidelity.\n\n"
      ]
    },
    {
      "cell_type": "code",
      "execution_count": null,
      "metadata": {
        "collapsed": false
      },
      "outputs": [],
      "source": [
        "fd_basis_big = fd.to_basis(basis.BSpline(n_basis=7))\n\nfd_basis_big.plot()"
      ]
    },
    {
      "cell_type": "markdown",
      "metadata": {},
      "source": [
        "Lets compare the diferent representations in the same plot, for the same\ncurve\n\n"
      ]
    },
    {
      "cell_type": "code",
      "execution_count": null,
      "metadata": {
        "collapsed": false
      },
      "outputs": [],
      "source": [
        "fig = fd[0].plot()\nfd_basis[0].plot(fig=fig)\nfd_basis_big[0].plot(fig=fig)\n\nfig.axes[0].legend(['Original', '4 elements', '7 elements'])"
      ]
    },
    {
      "cell_type": "markdown",
      "metadata": {},
      "source": [
        "We can also see the effect of changing the basis.\nFor example, in the Fourier basis the functions start and end at the same\npoints if the period is equal to the domain range, so this basis is clearly\nnon suitable for the Growth dataset.\n\n"
      ]
    },
    {
      "cell_type": "code",
      "execution_count": null,
      "metadata": {
        "collapsed": false
      },
      "outputs": [],
      "source": [
        "fd_basis = fd.to_basis(basis.Fourier(n_basis=7))\n\nfd_basis.plot()"
      ]
    },
    {
      "cell_type": "markdown",
      "metadata": {},
      "source": [
        "The data is now represented as the coefficients in the basis expansion.\n\n"
      ]
    },
    {
      "cell_type": "code",
      "execution_count": null,
      "metadata": {
        "collapsed": false
      },
      "outputs": [],
      "source": [
        "print(fd_basis)"
      ]
    }
  ],
  "metadata": {
    "kernelspec": {
      "display_name": "Python 3",
      "language": "python",
      "name": "python3"
    },
    "language_info": {
      "codemirror_mode": {
        "name": "ipython",
        "version": 3
      },
      "file_extension": ".py",
      "mimetype": "text/x-python",
      "name": "python",
      "nbconvert_exporter": "python",
      "pygments_lexer": "ipython3",
      "version": "3.7.9"
    }
  },
  "nbformat": 4,
  "nbformat_minor": 0
}