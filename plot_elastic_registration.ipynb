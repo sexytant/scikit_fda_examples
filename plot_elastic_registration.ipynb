{
  "cells": [
    {
      "cell_type": "code",
      "execution_count": null,
      "metadata": {
        "collapsed": false
      },
      "outputs": [],
      "source": [
        "%matplotlib inline"
      ]
    },
    {
      "cell_type": "markdown",
      "metadata": {},
      "source": [
        "\n# Elastic registration\n\nShows the usage of the elastic registration to perform a groupwise alignment.\n"
      ]
    },
    {
      "cell_type": "code",
      "execution_count": null,
      "metadata": {
        "collapsed": false
      },
      "outputs": [],
      "source": [
        "# Author: Pablo Marcos Manch\u00f3n\n# License: MIT\n\n# sphinx_gallery_thumbnail_number = 5\n\nimport numpy as np\n\nimport skfda\nfrom skfda.datasets import fetch_growth, make_multimodal_samples\nfrom skfda.exploratory.stats import fisher_rao_karcher_mean\nfrom skfda.preprocessing.registration import FisherRaoElasticRegistration"
      ]
    },
    {
      "cell_type": "markdown",
      "metadata": {},
      "source": [
        "In the example of pairwise alignment was shown the usage of\n:class:`~skfda.preprocessing.registration.FisherRaoElasticRegistration` to\nalign a set of functional observations to a given template or a set of\ntemplates.\n\nIn the groupwise alignment all the samples are aligned to the same template,\nconstructed to minimise some distance, generally a mean or a median. In the\ncase of the elastic registration, due to the use of the elastic distance in\nthe alignment, one of the most suitable templates is the karcher mean under\nthis metric.\n\nWe will create a synthetic dataset to show the basic usage of the\nregistration.\n\n"
      ]
    },
    {
      "cell_type": "code",
      "execution_count": null,
      "metadata": {
        "collapsed": false
      },
      "outputs": [],
      "source": [
        "fd = make_multimodal_samples(n_modes=2, stop=4, random_state=1)\nfd.plot()"
      ]
    },
    {
      "cell_type": "markdown",
      "metadata": {},
      "source": [
        "The following figure shows the\n:func:`~skfda.exploratory.stats.fisher_rao_karcher_mean` of the\ndataset and the cross-sectional mean, which correspond to the karcher-mean\nunder the $\\mathbb{L}^2$ distance.\n\nIt can be seen how the elastic mean better captures the geometry of the\ncurves compared to the standard mean, since it is not affected by the\ndeformations of the curves.\n\n"
      ]
    },
    {
      "cell_type": "code",
      "execution_count": null,
      "metadata": {
        "collapsed": false
      },
      "outputs": [],
      "source": [
        "fig = fd.mean().plot(label=\"L2 mean\")\nfisher_rao_karcher_mean(fd).plot(fig=fig, label=\"Elastic mean\")\nfig.legend()"
      ]
    },
    {
      "cell_type": "markdown",
      "metadata": {},
      "source": [
        "In this case, the alignment completely reduces the amplitude variability\nbetween the samples, aligning the maximum points correctly.\n\n"
      ]
    },
    {
      "cell_type": "code",
      "execution_count": null,
      "metadata": {
        "collapsed": false
      },
      "outputs": [],
      "source": [
        "elastic_registration = FisherRaoElasticRegistration()\n\nfd_align = elastic_registration.fit_transform(fd)\n\nfd_align.plot()"
      ]
    },
    {
      "cell_type": "markdown",
      "metadata": {},
      "source": [
        "In general these type of alignments are not possible, in the following\nfigure it is shown how it works with a real dataset.\nThe :func:`berkeley growth dataset<skfda.datasets.fetch_growth>`\ncontains the growth curves of a set children, in this case will be used only\nthe males. The growth curves will be resampled using cubic interpolation and\nderived to obtain the velocity curves.\n\nFirst we show the original curves:\n\n"
      ]
    },
    {
      "cell_type": "code",
      "execution_count": null,
      "metadata": {
        "collapsed": false
      },
      "outputs": [],
      "source": [
        "growth = fetch_growth()\n\n# Select only one sex\nfd = growth['data'][growth['target'] == 0]\n\n# Obtain velocity curves\nfd.interpolation = skfda.representation.interpolation.SplineInterpolation(3)\nfd_derivative = fd.to_grid(np.linspace(*fd.domain_range[0], 200)).derivative()\nfd_derivative = fd_derivative.to_grid(np.linspace(*fd.domain_range[0], 50))\nfd_derivative.dataset_name = f\"{fd.dataset_name} - derivative\"\nfd_derivative.plot()"
      ]
    },
    {
      "cell_type": "markdown",
      "metadata": {},
      "source": [
        "We now show the aligned curves:\n\n"
      ]
    },
    {
      "cell_type": "code",
      "execution_count": null,
      "metadata": {
        "collapsed": false
      },
      "outputs": [],
      "source": [
        "fd_align = elastic_registration.fit_transform(fd_derivative)\nfd_align.dataset_name = f\"{fd.dataset_name} - derivative aligned\"\n\nfd_align.plot()"
      ]
    },
    {
      "cell_type": "markdown",
      "metadata": {},
      "source": [
        "* Srivastava, Anuj & Klassen, Eric P. (2016). Functional and shape data\n  analysis. In *Functional Data and Elastic Registration* (pp. 73-122).\n  Springer.\n\n* Tucker, J. D., Wu, W. and Srivastava, A. (2013). Generative Models for\n  Functional Data using Phase and Amplitude Separation.\n  Computational Statistics and Data Analysis, Vol. 61, 50-66.\n\n* J. S. Marron, James O. Ramsay, Laura M. Sangalli and Anuj Srivastava\n  (2015). Functional Data Analysis of Amplitude and Phase Variation.\n  Statistical Science 2015, Vol. 30, No. 4\n\n"
      ]
    }
  ],
  "metadata": {
    "kernelspec": {
      "display_name": "Python 3",
      "language": "python",
      "name": "python3"
    },
    "language_info": {
      "codemirror_mode": {
        "name": "ipython",
        "version": 3
      },
      "file_extension": ".py",
      "mimetype": "text/x-python",
      "name": "python",
      "nbconvert_exporter": "python",
      "pygments_lexer": "ipython3",
      "version": "3.7.9"
    }
  },
  "nbformat": 4,
  "nbformat_minor": 0
}