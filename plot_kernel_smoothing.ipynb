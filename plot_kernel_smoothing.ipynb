{
  "cells": [
    {
      "cell_type": "code",
      "execution_count": null,
      "metadata": {
        "collapsed": false
      },
      "outputs": [],
      "source": [
        "%matplotlib inline"
      ]
    },
    {
      "cell_type": "markdown",
      "metadata": {},
      "source": [
        "\n# Kernel Smoothing\n\nThis example uses different kernel smoothing methods over the phoneme data\nset and shows how cross validations scores vary over a range of different\nparameters used in the smoothing methods. It also show examples of\nundersmoothing and oversmoothing.\n"
      ]
    },
    {
      "cell_type": "code",
      "execution_count": null,
      "metadata": {
        "collapsed": false
      },
      "outputs": [],
      "source": [
        "# Author: Miguel Carbajo Berrocal\n# License: MIT\n\nimport matplotlib.pylab as plt\nimport numpy as np\n\nimport skfda\nimport skfda.preprocessing.smoothing.kernel_smoothers as ks\nimport skfda.preprocessing.smoothing.validation as val"
      ]
    },
    {
      "cell_type": "markdown",
      "metadata": {},
      "source": [
        "For this example, we will use the\n:func:`phoneme <skfda.datasets.fetch_phoneme>` dataset. This dataset\ncontains the log-periodograms of several phoneme pronunciations. The phoneme\ncurves are very irregular and noisy, so we usually will want to smooth them\nas a preprocessing step.\n\nAs an example, we will smooth the first 300 curves only. In the following\nplot, the first five curves are shown.\n\n"
      ]
    },
    {
      "cell_type": "code",
      "execution_count": null,
      "metadata": {
        "collapsed": false
      },
      "outputs": [],
      "source": [
        "dataset = skfda.datasets.fetch_phoneme()\nfd = dataset['data'][:300]\n\nfd[0:5].plot()"
      ]
    },
    {
      "cell_type": "markdown",
      "metadata": {},
      "source": [
        "Here we show the general cross validation scores for different values of the\nparameters given to the different smoothing methods. Currently we have\nthree kernel smoothing methods implemented: Nadaraya Watson, Local Linear\nRegression and K Nearest Neighbors (k-NN)\n\n"
      ]
    },
    {
      "cell_type": "markdown",
      "metadata": {},
      "source": [
        "The smoothing parameter for k-NN is the number of neighbors. We will choose\nthis parameter between 1 and 23 in this example.\n\n"
      ]
    },
    {
      "cell_type": "code",
      "execution_count": null,
      "metadata": {
        "collapsed": false
      },
      "outputs": [],
      "source": [
        "n_neighbors = np.arange(1, 24)"
      ]
    },
    {
      "cell_type": "markdown",
      "metadata": {},
      "source": [
        "The smoothing parameter for Nadaraya Watson and Local Linear Regression is\na bandwidth parameter, with the same units as the domain of the function.\nAs we want to compare the results of these smoothers with k-NN, with uses\nas the smoothing parameter the number of neighbors, we want to use a\ncomparable range of values. In this case, we know that our grid points are\nequispaced, so a given bandwidth ``B`` will include\n``B * N / D`` grid points, where ``N`` is the total number of grid points\nand ``D`` the size of the whole domain range. Thus, if we pick\n``B = n_neighbors * D / N``, ``B`` will include ``n_neighbors`` grid points\nand we could compare the results of the different smoothers.\n\n"
      ]
    },
    {
      "cell_type": "code",
      "execution_count": null,
      "metadata": {
        "collapsed": false
      },
      "outputs": [],
      "source": [
        "scale_factor = (\n    (fd.domain_range[0][1] - fd.domain_range[0][0])\n    / len(fd.grid_points[0])\n)\n\nbandwidth = n_neighbors * scale_factor\n\n# K-nearest neighbours kernel smoothing.\nknn = val.SmoothingParameterSearch(\n    ks.KNeighborsSmoother(),\n    n_neighbors,\n)\nknn.fit(fd)\nknn_fd = knn.transform(fd)\n\n# Local linear regression kernel smoothing.\nllr = val.SmoothingParameterSearch(\n    ks.LocalLinearRegressionSmoother(),\n    bandwidth,\n)\nllr.fit(fd)\nllr_fd = llr.transform(fd)\n\n# Nadaraya-Watson kernel smoothing.\nnw = val.SmoothingParameterSearch(\n    ks.NadarayaWatsonSmoother(),\n    bandwidth,\n)\nnw.fit(fd)\nnw_fd = nw.transform(fd)"
      ]
    },
    {
      "cell_type": "markdown",
      "metadata": {},
      "source": [
        "The plot of the mean test scores for all smoothers is shown below.\nAs the X axis we will use the neighbors for all the smoothers in order\nto compare k-NN with the others, but remember that the bandwidth is\nthis quantity scaled by ``scale_factor``!\n\n"
      ]
    },
    {
      "cell_type": "code",
      "execution_count": null,
      "metadata": {
        "collapsed": false
      },
      "outputs": [],
      "source": [
        "fig = plt.figure()\nax = fig.add_subplot(1, 1, 1)\nax.plot(\n    n_neighbors,\n    knn.cv_results_['mean_test_score'],\n    label='k-nearest neighbors',\n)\nax.plot(\n    n_neighbors,\n    llr.cv_results_['mean_test_score'],\n    label='local linear regression',\n)\nax.plot(\n    n_neighbors,\n    nw.cv_results_['mean_test_score'],\n    label='Nadaraya-Watson',\n)\nax.legend()\nfig"
      ]
    },
    {
      "cell_type": "markdown",
      "metadata": {},
      "source": [
        "We can plot the smoothed curves corresponding to the 11th element of the\ndata set (this is a random choice) for the three different smoothing\nmethods.\n\n"
      ]
    },
    {
      "cell_type": "code",
      "execution_count": null,
      "metadata": {
        "collapsed": false
      },
      "outputs": [],
      "source": [
        "fig = plt.figure()\nax = fig.add_subplot(1, 1, 1)\nax.set_xlabel('Smoothing method parameter')\nax.set_ylabel('GCV score')\nax.set_title('Scores through GCV for different smoothing methods')\n\nfd[10].plot(fig=fig)\nknn_fd[10].plot(fig=fig)\nllr_fd[10].plot(fig=fig)\nnw_fd[10].plot(fig=fig)\nax.legend(\n    [\n        'original data',\n        'k-nearest neighbors',\n        'local linear regression',\n        'Nadaraya-Watson',\n    ],\n    title='Smoothing method',\n)\nfig"
      ]
    },
    {
      "cell_type": "markdown",
      "metadata": {},
      "source": [
        "We can compare the curve before and after the smoothing.\n\n"
      ]
    },
    {
      "cell_type": "markdown",
      "metadata": {},
      "source": [
        "Not smoothed\n\n"
      ]
    },
    {
      "cell_type": "code",
      "execution_count": null,
      "metadata": {
        "collapsed": false
      },
      "outputs": [],
      "source": [
        "fd[10].plot()"
      ]
    },
    {
      "cell_type": "markdown",
      "metadata": {},
      "source": [
        "Smoothed\n\n"
      ]
    },
    {
      "cell_type": "code",
      "execution_count": null,
      "metadata": {
        "collapsed": false
      },
      "outputs": [],
      "source": [
        "fig = fd[10].scatter(s=0.5)\nnw_fd[10].plot(fig=fig, color='green')\nfig"
      ]
    },
    {
      "cell_type": "markdown",
      "metadata": {},
      "source": [
        "Now, we can see the effects of a proper smoothing. We can plot the same 5\nsamples from the beginning using the Nadaraya-Watson kernel smoother with\nthe best choice of parameter.\n\n"
      ]
    },
    {
      "cell_type": "code",
      "execution_count": null,
      "metadata": {
        "collapsed": false
      },
      "outputs": [],
      "source": [
        "nw_fd[0:5].plot()"
      ]
    },
    {
      "cell_type": "markdown",
      "metadata": {},
      "source": [
        "We can also appreciate the effects of undersmoothing and oversmoothing in\nthe following plots.\n\n"
      ]
    },
    {
      "cell_type": "code",
      "execution_count": null,
      "metadata": {
        "collapsed": false
      },
      "outputs": [],
      "source": [
        "fd_us = ks.NadarayaWatsonSmoother(\n    smoothing_parameter=2 * scale_factor,\n).fit_transform(fd[10])\nfd_os = ks.NadarayaWatsonSmoother(\n    smoothing_parameter=15 * scale_factor,\n).fit_transform(fd[10])"
      ]
    },
    {
      "cell_type": "markdown",
      "metadata": {},
      "source": [
        "Under-smoothed\n\n"
      ]
    },
    {
      "cell_type": "code",
      "execution_count": null,
      "metadata": {
        "collapsed": false
      },
      "outputs": [],
      "source": [
        "fig = fd[10].scatter(s=0.5)\nfd_us.plot(fig=fig)"
      ]
    },
    {
      "cell_type": "markdown",
      "metadata": {},
      "source": [
        "Over-smoothed\n\n"
      ]
    },
    {
      "cell_type": "code",
      "execution_count": null,
      "metadata": {
        "collapsed": false
      },
      "outputs": [],
      "source": [
        "fig = fd[10].scatter(s=0.5)\nfd_os.plot(fig=fig)"
      ]
    }
  ],
  "metadata": {
    "kernelspec": {
      "display_name": "Python 3",
      "language": "python",
      "name": "python3"
    },
    "language_info": {
      "codemirror_mode": {
        "name": "ipython",
        "version": 3
      },
      "file_extension": ".py",
      "mimetype": "text/x-python",
      "name": "python",
      "nbconvert_exporter": "python",
      "pygments_lexer": "ipython3",
      "version": "3.7.9"
    }
  },
  "nbformat": 4,
  "nbformat_minor": 0
}