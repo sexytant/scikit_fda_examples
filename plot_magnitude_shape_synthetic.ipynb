{
  "cells": [
    {
      "cell_type": "code",
      "execution_count": null,
      "metadata": {
        "collapsed": false
      },
      "outputs": [],
      "source": [
        "%matplotlib inline"
      ]
    },
    {
      "cell_type": "markdown",
      "metadata": {},
      "source": [
        "\n# Magnitude-Shape Plot synthetic example\n\nShows the use of the MS-Plot applied to a synthetic dataset.\n"
      ]
    },
    {
      "cell_type": "code",
      "execution_count": null,
      "metadata": {
        "collapsed": false
      },
      "outputs": [],
      "source": [
        "# Author: Carlos Ramos Carre\u00f1o\n# License: MIT\n\n# sphinx_gallery_thumbnail_number = 3\n\nimport matplotlib.pyplot as plt\nimport numpy as np\n\nimport skfda\nfrom skfda.exploratory.visualization import MagnitudeShapePlot"
      ]
    },
    {
      "cell_type": "markdown",
      "metadata": {},
      "source": [
        "First, we generate a synthetic dataset following [DaWe18]_\n\n"
      ]
    },
    {
      "cell_type": "code",
      "execution_count": null,
      "metadata": {
        "collapsed": false
      },
      "outputs": [],
      "source": [
        "random_state = np.random.RandomState(0)\nn_samples = 200\n\nfd = skfda.datasets.make_gaussian_process(\n    n_samples=n_samples,\n    n_features=100,\n    cov=skfda.misc.covariances.Exponential(),\n    mean=lambda t: 4 * t,\n    random_state=random_state,\n)"
      ]
    },
    {
      "cell_type": "markdown",
      "metadata": {},
      "source": [
        "We now add the outliers\n\n"
      ]
    },
    {
      "cell_type": "code",
      "execution_count": null,
      "metadata": {
        "collapsed": false
      },
      "outputs": [],
      "source": [
        "magnitude_outlier = skfda.datasets.make_gaussian_process(\n    n_samples=1,\n    n_features=100,\n    cov=skfda.misc.covariances.Exponential(),\n    mean=lambda t: 4 * t + 20,\n    random_state=random_state,\n)\n\nshape_outlier_shift = skfda.datasets.make_gaussian_process(\n    n_samples=1,\n    n_features=100,\n    cov=skfda.misc.covariances.Exponential(),\n    mean=lambda t: 4 * t + 10 * (t > 0.4),\n    random_state=random_state,\n)\n\nshape_outlier_peak = skfda.datasets.make_gaussian_process(\n    n_samples=1,\n    n_features=100,\n    cov=skfda.misc.covariances.Exponential(),\n    mean=lambda t: 4 * t - 10 * ((0.25 < t) & (t < 0.3)),\n    random_state=random_state,\n)\n\nshape_outlier_sin = skfda.datasets.make_gaussian_process(\n    n_samples=1,\n    n_features=100,\n    cov=skfda.misc.covariances.Exponential(),\n    mean=lambda t: 4 * t + 2 * np.sin(18 * t),\n    random_state=random_state,\n)\n\nshape_outlier_slope = skfda.datasets.make_gaussian_process(\n    n_samples=1,\n    n_features=100,\n    cov=skfda.misc.covariances.Exponential(),\n    mean=lambda t: 10 * t,\n    random_state=random_state,\n)\n\nmagnitude_shape_outlier = skfda.datasets.make_gaussian_process(\n    n_samples=1,\n    n_features=100,\n    cov=skfda.misc.covariances.Exponential(),\n    mean=lambda t: 4 * t + 2 * np.sin(18 * t) - 20,\n    random_state=random_state,\n)\n\n\nfd = fd.concatenate(\n    magnitude_outlier,\n    shape_outlier_shift,\n    shape_outlier_peak,\n    shape_outlier_sin,\n    shape_outlier_slope,\n    magnitude_shape_outlier,\n)"
      ]
    },
    {
      "cell_type": "markdown",
      "metadata": {},
      "source": [
        "The data is plotted to show the curves we are working with.\n\n"
      ]
    },
    {
      "cell_type": "code",
      "execution_count": null,
      "metadata": {
        "collapsed": false
      },
      "outputs": [],
      "source": [
        "labels = [0] * n_samples + [1] * 6\n\nfd.plot(\n    group=labels,\n    group_colors=['lightgrey', 'black'],\n)"
      ]
    },
    {
      "cell_type": "markdown",
      "metadata": {},
      "source": [
        "The MS-Plot is generated. In order to show the results, the\n:func:`~skfda.exploratory.visualization.MagnitudeShapePlot.plot`\nmethod is used.\n\n"
      ]
    },
    {
      "cell_type": "code",
      "execution_count": null,
      "metadata": {
        "collapsed": false
      },
      "outputs": [],
      "source": [
        "msplot = MagnitudeShapePlot(fd)\n\nmsplot.plot()"
      ]
    },
    {
      "cell_type": "markdown",
      "metadata": {},
      "source": [
        "To show the utility of the plot, the curves are plotted showing each outlier\nin a different color\n\n"
      ]
    },
    {
      "cell_type": "code",
      "execution_count": null,
      "metadata": {
        "collapsed": false
      },
      "outputs": [],
      "source": [
        "labels = [0] * n_samples + [1, 2, 3, 4, 5, 6]\ncolors = [\n    'lightgrey',\n    'orange',\n    'blue',\n    'black',\n    'green',\n    'brown',\n    'lightblue',\n]\n\nfd.plot(\n    group=labels,\n    group_colors=colors,\n)"
      ]
    },
    {
      "cell_type": "markdown",
      "metadata": {},
      "source": [
        "We now show the points in the MS-plot using the same colors\n\n"
      ]
    },
    {
      "cell_type": "code",
      "execution_count": null,
      "metadata": {
        "collapsed": false
      },
      "outputs": [],
      "source": [
        "fig = plt.figure()\nax = fig.add_subplot(1, 1, 1)\nax.scatter(\n    msplot.points[:, 0].ravel(),\n    msplot.points[:, 1].ravel(),\n    c=colors[:1] * n_samples + colors[1:],\n)\nax.set_title(\"MS-Plot\")\nax.set_xlabel(\"magnitude outlyingness\")\nax.set_ylabel(\"shape outlyingness\")"
      ]
    },
    {
      "cell_type": "markdown",
      "metadata": {},
      "source": [
        ".. rubric:: References\n.. [DaWe18] Dai, Wenlin, and Genton, Marc G. \"Multivariate functional data\n   visualization and outlier detection.\" Journal of Computational and\n   Graphical Statistics 27.4 (2018): 923-934.\n\n"
      ]
    }
  ],
  "metadata": {
    "kernelspec": {
      "display_name": "Python 3",
      "language": "python",
      "name": "python3"
    },
    "language_info": {
      "codemirror_mode": {
        "name": "ipython",
        "version": 3
      },
      "file_extension": ".py",
      "mimetype": "text/x-python",
      "name": "python",
      "nbconvert_exporter": "python",
      "pygments_lexer": "ipython3",
      "version": "3.7.9"
    }
  },
  "nbformat": 4,
  "nbformat_minor": 0
}