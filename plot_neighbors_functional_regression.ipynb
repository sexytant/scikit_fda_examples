{
  "cells": [
    {
      "cell_type": "code",
      "execution_count": null,
      "metadata": {
        "collapsed": false
      },
      "outputs": [],
      "source": [
        "%matplotlib inline"
      ]
    },
    {
      "cell_type": "markdown",
      "metadata": {},
      "source": [
        "\n# Neighbors Functional Regression\n\nShows the usage of the nearest neighbors regressor with functional response.\n"
      ]
    },
    {
      "cell_type": "code",
      "execution_count": null,
      "metadata": {
        "collapsed": false
      },
      "outputs": [],
      "source": [
        "# Author: Pablo Marcos Manch\u00f3n\n# License: MIT\n\n# sphinx_gallery_thumbnail_number = 4\n\nfrom sklearn.model_selection import train_test_split\nimport matplotlib.pyplot as plt\n\nimport skfda\nfrom skfda.ml.regression import KNeighborsRegressor\nfrom skfda.representation.basis import Fourier"
      ]
    },
    {
      "cell_type": "markdown",
      "metadata": {},
      "source": [
        "In this example we are going to show the usage of the nearest neighbors\nregressors with functional response. There is available a K-nn version,\n:class:`~skfda.ml.regression.KNeighborsRegressor`, and other one based in\nthe radius, :class:`~skfda.ml.regression.RadiusNeighborsRegressor`.\n\n\nAs in the `scalar response example\n<sphx_glr_auto_examples_plot_neighbors_scalar_regression.py>`, we will fetch\nthe Canadian weather dataset, which contains the daily temperature and\nprecipitation at 35 different locations in Canada averaged over 1960 to 1994.\nThe following figure shows the different temperature and precipitation\ncurves.\n\n\n"
      ]
    },
    {
      "cell_type": "code",
      "execution_count": null,
      "metadata": {
        "collapsed": false
      },
      "outputs": [],
      "source": [
        "data = skfda.datasets.fetch_weather()\nfd = data['data']\n\n\n# Split dataset, temperatures and curves of precipitation\nX, y = fd.coordinates"
      ]
    },
    {
      "cell_type": "markdown",
      "metadata": {},
      "source": [
        "Temperatures\n\n"
      ]
    },
    {
      "cell_type": "code",
      "execution_count": null,
      "metadata": {
        "collapsed": false
      },
      "outputs": [],
      "source": [
        "X.plot()"
      ]
    },
    {
      "cell_type": "markdown",
      "metadata": {},
      "source": [
        "Precipitation\n\n"
      ]
    },
    {
      "cell_type": "code",
      "execution_count": null,
      "metadata": {
        "collapsed": false
      },
      "outputs": [],
      "source": [
        "y.plot()"
      ]
    },
    {
      "cell_type": "markdown",
      "metadata": {},
      "source": [
        "We will try to predict the precipitation curves. First of all we are going\nto make a smoothing of the precipitation curves using a basis\nrepresentation, employing for it a fourier basis with 5 elements.\n\n\n"
      ]
    },
    {
      "cell_type": "code",
      "execution_count": null,
      "metadata": {
        "collapsed": false
      },
      "outputs": [],
      "source": [
        "y = y.to_basis(Fourier(n_basis=5))\n\ny.plot()"
      ]
    },
    {
      "cell_type": "markdown",
      "metadata": {},
      "source": [
        "We will split the dataset in two partitions, for training and test,\nusing the sklearn function\n:func:`~sklearn.model_selection.train_test_split`.\n\n\n"
      ]
    },
    {
      "cell_type": "code",
      "execution_count": null,
      "metadata": {
        "collapsed": false
      },
      "outputs": [],
      "source": [
        "X_train, X_test, y_train, y_test = train_test_split(X, y, test_size=.1,\n                                                    random_state=28)"
      ]
    },
    {
      "cell_type": "markdown",
      "metadata": {},
      "source": [
        "We will try make a prediction using 5 neighbors and the $\\mathbb{L}^2$\ndistance. In this case, to calculate\nthe response we will use a mean of the response, weighted by their distance\nto the test sample.\n\n\n"
      ]
    },
    {
      "cell_type": "code",
      "execution_count": null,
      "metadata": {
        "collapsed": false
      },
      "outputs": [],
      "source": [
        "knn = KNeighborsRegressor(n_neighbors=5, weights='distance')\nknn.fit(X_train, y_train)"
      ]
    },
    {
      "cell_type": "markdown",
      "metadata": {},
      "source": [
        "We can predict values for the test partition using\n:meth:`~skfda.ml.regression.KNeighborsFunctionalRegressor.predict`. The\nfollowing figure shows the real precipitation curves, in dashed line, and\nthe predicted ones.\n\n\n"
      ]
    },
    {
      "cell_type": "code",
      "execution_count": null,
      "metadata": {
        "collapsed": false
      },
      "outputs": [],
      "source": [
        "y_pred = knn.predict(X_test)\n\n# Plot prediction\nfig = y_pred.plot()\nfig.axes[0].set_prop_cycle(None)  # Reset colors\ny_test.plot(fig=fig, linestyle='--')"
      ]
    },
    {
      "cell_type": "markdown",
      "metadata": {},
      "source": [
        "We can quantify how much variability it is explained by the model\nusing the\n:meth:`~skfda.ml.regression.KNeighborsFunctionalRegressor.score` method,\nwhich computes the value\n\n\\begin{align}1 - \\frac{\\sum_{i=1}^{n}\\int (y_i(t) - \\hat{y}_i(t))^2dt}\n   {\\sum_{i=1}^{n} \\int (y_i(t)- \\frac{1}{n}\\sum_{i=1}^{n}y_i(t))^2dt}\\end{align}\n\nwhere $y_i$ are the real responses and $\\hat{y}_i$ the\npredicted ones.\n\n"
      ]
    },
    {
      "cell_type": "code",
      "execution_count": null,
      "metadata": {
        "collapsed": false
      },
      "outputs": [],
      "source": [
        "score = knn.score(X_test, y_test)\nprint(score)"
      ]
    },
    {
      "cell_type": "markdown",
      "metadata": {},
      "source": [
        "More detailed information about the canadian weather dataset can be obtained\nin the following references.\n\n * Ramsay, James O., and Silverman, Bernard W. (2006). Functional Data\n   Analysis, 2nd ed. , Springer, New York.\n\n * Ramsay, James O., and Silverman, Bernard W. (2002). Applied Functional\n   Data Analysis, Springer, New York\\n'\n\n\n"
      ]
    }
  ],
  "metadata": {
    "kernelspec": {
      "display_name": "Python 3",
      "language": "python",
      "name": "python3"
    },
    "language_info": {
      "codemirror_mode": {
        "name": "ipython",
        "version": 3
      },
      "file_extension": ".py",
      "mimetype": "text/x-python",
      "name": "python",
      "nbconvert_exporter": "python",
      "pygments_lexer": "ipython3",
      "version": "3.7.9"
    }
  },
  "nbformat": 4,
  "nbformat_minor": 0
}