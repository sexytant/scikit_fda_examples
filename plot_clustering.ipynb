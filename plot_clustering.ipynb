{
 "cells": [
  {
   "cell_type": "code",
   "execution_count": null,
   "metadata": {
    "collapsed": false,
    "jupyter": {
     "outputs_hidden": false
    }
   },
   "outputs": [],
   "source": [
    "%matplotlib inline"
   ]
  },
  {
   "cell_type": "markdown",
   "metadata": {},
   "source": [
    "\n",
    "# Clustering\n",
    "\n",
    "In this example, the use of the clustering plot methods is shown applied to the\n",
    "Canadian Weather dataset. K-Means and Fuzzy K-Means algorithms are employed to\n",
    "calculate the results plotted.\n"
   ]
  },
  {
   "cell_type": "code",
   "execution_count": null,
   "metadata": {
    "collapsed": false,
    "jupyter": {
     "outputs_hidden": false
    }
   },
   "outputs": [],
   "source": [
    "# Author: Amanda Hernando Bernabé\n",
    "# License: MIT\n",
    "\n",
    "# sphinx_gallery_thumbnail_number = 6\n",
    "\n",
    "import matplotlib.pyplot as plt\n",
    "import numpy as np\n",
    "\n",
    "from skfda import datasets\n",
    "from skfda.exploratory.visualization.clustering import (\n",
    "    ClusterMembershipLinesPlot,\n",
    "    ClusterMembershipPlot,\n",
    "    ClusterPlot,\n",
    ")\n",
    "from skfda.ml.clustering import FuzzyCMeans, KMeans"
   ]
  },
  {
   "cell_type": "markdown",
   "metadata": {},
   "source": [
    "First, the Canadian Weather dataset is downloaded from the package 'fda' in\n",
    "CRAN. It contains a FDataGrid with daily temperatures and precipitations,\n",
    "that is, it has a 2-dimensional image. We are interested only in the daily\n",
    "average temperatures, so we select the first coordinate function.\n",
    "\n"
   ]
  },
  {
   "cell_type": "code",
   "execution_count": null,
   "metadata": {
    "collapsed": false,
    "jupyter": {
     "outputs_hidden": false
    }
   },
   "outputs": [],
   "source": [
    "X, y = datasets.fetch_weather(return_X_y=True, as_frame=True)\n",
    "fd = X.iloc[:, 0].values\n",
    "fd_temperatures = fd.coordinates[0]\n",
    "target = y.values\n",
    "\n",
    "# The desired FDataGrid only contains 10 random samples, so that the example\n",
    "# provides clearer plots.\n",
    "indices_samples = np.array([1, 3, 5, 10, 14, 17, 21, 25, 27, 30])\n",
    "fd = fd_temperatures[indices_samples]"
   ]
  },
  {
   "cell_type": "markdown",
   "metadata": {},
   "source": [
    "The data is plotted to show the curves we are working with. They are divided\n",
    "according to the target. In this case, it includes the different climates to\n",
    "which the weather stations belong to.\n",
    "\n"
   ]
  },
  {
   "cell_type": "code",
   "execution_count": null,
   "metadata": {
    "collapsed": false,
    "jupyter": {
     "outputs_hidden": false
    }
   },
   "outputs": [],
   "source": [
    "climates = target[indices_samples].remove_unused_categories()\n",
    "\n",
    "# Assigning the color to each of the groups.\n",
    "colormap = plt.cm.get_cmap('tab20b')\n",
    "n_climates = len(climates.categories)\n",
    "climate_colors = colormap(np.arange(n_climates) / (n_climates - 1))\n",
    "\n",
    "fd.plot(group=climates.codes, group_names=climates.categories,\n",
    "        group_colors=climate_colors)"
   ]
  },
  {
   "cell_type": "markdown",
   "metadata": {},
   "source": [
    "The number of clusters is set with the number of climates, in order to see\n",
    "the performance of the clustering methods, and the seed is set to one in\n",
    "order to obatain always the same result for the example.\n",
    "\n"
   ]
  },
  {
   "cell_type": "code",
   "execution_count": null,
   "metadata": {
    "collapsed": false,
    "jupyter": {
     "outputs_hidden": false
    }
   },
   "outputs": [],
   "source": [
    "n_clusters = n_climates\n",
    "seed = 2"
   ]
  },
  {
   "cell_type": "markdown",
   "metadata": {},
   "source": [
    "First, the class :class:`~skfda.ml.clustering.KMeans` is instantiated with\n",
    "the desired. parameters. Its :func:`~skfda.ml.clustering.KMeans.fit` method\n",
    "is called, resulting in the calculation of several attributes which include\n",
    "among others, the the number of cluster each sample belongs to (labels), and\n",
    "the centroids of each cluster. The labels are obtaiined calling the method\n",
    ":func:`~skfda.ml.clustering.KMeans.predict`.\n",
    "\n"
   ]
  },
  {
   "cell_type": "code",
   "execution_count": null,
   "metadata": {
    "collapsed": false,
    "jupyter": {
     "outputs_hidden": false
    }
   },
   "outputs": [],
   "source": [
    "kmeans = KMeans(n_clusters=n_clusters, random_state=seed)\n",
    "kmeans.fit(fd)\n",
    "print(kmeans.predict(fd))"
   ]
  },
  {
   "cell_type": "markdown",
   "metadata": {},
   "source": [
    "To see the information in a graphic way, the method\n",
    ":func:`~skfda.exploratory.visualization.clustering_plots.plot_clusters` can\n",
    "be used.\n",
    "\n"
   ]
  },
  {
   "cell_type": "code",
   "execution_count": null,
   "metadata": {
    "collapsed": false,
    "jupyter": {
     "outputs_hidden": false
    }
   },
   "outputs": [],
   "source": [
    "# Customization of cluster colors and labels in order to match the first image\n",
    "# of raw data.\n",
    "cluster_colors = climate_colors[np.array([0, 2, 1])]\n",
    "cluster_labels = climates.categories[np.array([0, 2, 1])]\n",
    "\n",
    "ClusterPlot(kmeans, fd, cluster_colors=cluster_colors,\n",
    "            cluster_labels=cluster_labels).plot()"
   ]
  },
  {
   "cell_type": "markdown",
   "metadata": {},
   "source": [
    "Other clustering algorithm implemented is the Fuzzy K-Means found in the\n",
    "class :class:`~skfda.ml.clustering.FuzzyCMeans`. Following the\n",
    "above procedure, an object of this type is instantiated  with the desired\n",
    "data and then, the\n",
    ":func:`~skfda.ml.clustering.FuzzyCMeans.fit` method is called.\n",
    "Internally, the attribute ``membership_degree_`` is calculated, which contains\n",
    "´n_clusters´ elements for each sample and dimension, denoting the degree of\n",
    "membership of each sample to each cluster. They are obtained calling the\n",
    "method :func:`~skfda.ml.clustering.FuzzyCMeans.predict_proba`. Also, the centroids\n",
    "of each cluster are obtained.\n",
    "\n"
   ]
  },
  {
   "cell_type": "code",
   "execution_count": null,
   "metadata": {
    "collapsed": false,
    "jupyter": {
     "outputs_hidden": false
    }
   },
   "outputs": [],
   "source": [
    "fuzzy_kmeans = FuzzyCMeans(n_clusters=n_clusters, random_state=seed)\n",
    "fuzzy_kmeans.fit(fd)\n",
    "print(fuzzy_kmeans.predict_proba(fd))"
   ]
  },
  {
   "cell_type": "markdown",
   "metadata": {},
   "source": [
    "To see the information in a graphic way, the method\n",
    ":func:`~skfda.exploratory.visualization.clustering_plots.plot_clusters` can\n",
    "be used. It assigns each sample to the cluster whose membership value is the\n",
    "greatest.\n",
    "\n"
   ]
  },
  {
   "cell_type": "code",
   "execution_count": null,
   "metadata": {
    "collapsed": false,
    "jupyter": {
     "outputs_hidden": false
    }
   },
   "outputs": [],
   "source": [
    "ClusterPlot(fuzzy_kmeans, fd, cluster_colors=cluster_colors,\n",
    "            cluster_labels=cluster_labels).plot()"
   ]
  },
  {
   "cell_type": "markdown",
   "metadata": {},
   "source": [
    "Another plot implemented to show the results in the class\n",
    ":class:`~skfda.ml.clustering.FuzzyCMeans` is\n",
    ":func:`~skfda.exploratory.visualization.clustering_plots.plot_cluster_lines`\n",
    "which is similar to parallel coordinates. It is recommended to assign colors\n",
    "to each of the samples in order to identify them. In this example, the\n",
    "colors are the ones of the first plot, dividing the samples by climate.\n",
    "\n"
   ]
  },
  {
   "cell_type": "code",
   "execution_count": null,
   "metadata": {
    "collapsed": false,
    "jupyter": {
     "outputs_hidden": false
    }
   },
   "outputs": [],
   "source": [
    "colors_by_climate = colormap(climates.codes / (n_climates - 1))\n",
    "\n",
    "ClusterMembershipLinesPlot(fuzzy_kmeans, fd, cluster_labels=cluster_labels,\n",
    "                           sample_colors=colors_by_climate).plot()"
   ]
  },
  {
   "cell_type": "markdown",
   "metadata": {},
   "source": [
    "Finally, the function\n",
    ":func:`~skfda.exploratory.visualization.clustering_plots.plot_cluster_bars`\n",
    "returns a barplot. Each sample is designated with a bar which is filled\n",
    "proportionally to the membership values with the color of each cluster.\n",
    "\n"
   ]
  },
  {
   "cell_type": "code",
   "execution_count": null,
   "metadata": {
    "collapsed": false,
    "jupyter": {
     "outputs_hidden": false
    }
   },
   "outputs": [],
   "source": [
    "ClusterMembershipPlot(fuzzy_kmeans, fd, cluster_colors=cluster_colors,\n",
    "                      cluster_labels=cluster_labels).plot()"
   ]
  },
  {
   "cell_type": "markdown",
   "metadata": {},
   "source": [
    "The possibility of sorting the bars according to a cluster is given\n",
    "specifying the number of cluster, which belongs to the interval\n",
    "[0, n_clusters).\n",
    "\n",
    "We can order the data using the first cluster:\n",
    "\n"
   ]
  },
  {
   "cell_type": "code",
   "execution_count": null,
   "metadata": {
    "collapsed": false,
    "jupyter": {
     "outputs_hidden": false
    }
   },
   "outputs": [],
   "source": [
    "ClusterMembershipPlot(fuzzy_kmeans, fd, sort=0, cluster_colors=cluster_colors,\n",
    "                      cluster_labels=cluster_labels).plot()"
   ]
  },
  {
   "cell_type": "markdown",
   "metadata": {},
   "source": [
    "Using the second cluster:\n",
    "\n"
   ]
  },
  {
   "cell_type": "code",
   "execution_count": null,
   "metadata": {
    "collapsed": false,
    "jupyter": {
     "outputs_hidden": false
    }
   },
   "outputs": [],
   "source": [
    "ClusterMembershipPlot(fuzzy_kmeans, fd, sort=1, cluster_colors=cluster_colors,\n",
    "                      cluster_labels=cluster_labels).plot()"
   ]
  },
  {
   "cell_type": "markdown",
   "metadata": {},
   "source": [
    "And using the third cluster:\n",
    "\n"
   ]
  },
  {
   "cell_type": "code",
   "execution_count": null,
   "metadata": {
    "collapsed": false,
    "jupyter": {
     "outputs_hidden": false
    }
   },
   "outputs": [],
   "source": [
    "ClusterMembershipPlot(fuzzy_kmeans, fd, sort=2, cluster_colors=cluster_colors,\n",
    "                      cluster_labels=cluster_labels).plot()"
   ]
  }
 ],
 "metadata": {
  "kernelspec": {
   "display_name": "Python 3 (ipykernel)",
   "language": "python",
   "name": "python3"
  },
  "language_info": {
   "codemirror_mode": {
    "name": "ipython",
    "version": 3
   },
   "file_extension": ".py",
   "mimetype": "text/x-python",
   "name": "python",
   "nbconvert_exporter": "python",
   "pygments_lexer": "ipython3",
   "version": "3.7.9"
  }
 },
 "nbformat": 4,
 "nbformat_minor": 4
}
