{
  "cells": [
    {
      "cell_type": "code",
      "execution_count": null,
      "metadata": {
        "collapsed": false
      },
      "outputs": [],
      "source": [
        "%matplotlib inline"
      ]
    },
    {
      "cell_type": "markdown",
      "metadata": {},
      "source": [
        "\n# Surface Boxplot\n\nShows the use of the surface boxplot, which is a generalization of the\nfunctional boxplot for FDataGrid whose domain dimension is 2.\n"
      ]
    },
    {
      "cell_type": "code",
      "execution_count": null,
      "metadata": {
        "collapsed": false
      },
      "outputs": [],
      "source": [
        "# Author: Amanda Hernando Bernab\u00e9\n# License: MIT\n\n# sphinx_gallery_thumbnail_number = 3\n\nfrom skfda import FDataGrid\nfrom skfda.datasets import make_gaussian_process\nfrom skfda.exploratory.visualization import SurfaceBoxplot, Boxplot\n\nimport matplotlib.pyplot as plt\nimport numpy as np"
      ]
    },
    {
      "cell_type": "markdown",
      "metadata": {},
      "source": [
        "In order to instantiate a\n:class:`~skfda.exploratory.visualization.SurfaceBoxplot`, a functional data\nobject with bidimensional domain must be generated. In this example, a\nFDataGrid representing a function\n$f : \\mathbb{R}^2\\longmapsto\\mathbb{R}$ is constructed,\nusing as an example a Brownian process extruded into another dimension.\n\nThe values of the Brownian process are generated using\n:func:`~skfda.datasets.make_gaussian_process`,\nThose functions return FDataGrid objects whose ``data_matrix``\nstore the values needed.\n\n"
      ]
    },
    {
      "cell_type": "code",
      "execution_count": null,
      "metadata": {
        "collapsed": false
      },
      "outputs": [],
      "source": [
        "n_samples = 10\nn_features = 10\n\nfd = make_gaussian_process(n_samples=n_samples, n_features=n_features,\n                           random_state=1)\nfd.dataset_name = \"Brownian process\""
      ]
    },
    {
      "cell_type": "markdown",
      "metadata": {},
      "source": [
        "After, those values generated for one dimension on the domain are extruded\nalong another dimension, obtaining a three-dimensional matrix or cube\n(two-dimensional domain and one-dimensional image).\n\n"
      ]
    },
    {
      "cell_type": "code",
      "execution_count": null,
      "metadata": {
        "collapsed": false
      },
      "outputs": [],
      "source": [
        "cube = np.repeat(fd.data_matrix, n_features).reshape(\n    (n_samples, n_features, n_features))"
      ]
    },
    {
      "cell_type": "markdown",
      "metadata": {},
      "source": [
        "We can plot now the extruded trajectories.\n\n"
      ]
    },
    {
      "cell_type": "code",
      "execution_count": null,
      "metadata": {
        "collapsed": false
      },
      "outputs": [],
      "source": [
        "fd_2 = FDataGrid(data_matrix=cube,\n                 grid_points=np.tile(fd.grid_points, (2, 1)),\n                 dataset_name=\"Extruded Brownian process\")\n\nfd_2.plot()"
      ]
    },
    {
      "cell_type": "markdown",
      "metadata": {},
      "source": [
        "Since matplotlib was initially designed with only two-dimensional plotting\nin mind, the three-dimensional plotting utilities were built on top of\nmatplotlib's two-dimensional display, and the result is a convenient (if\nsomewhat limited) set of tools for three-dimensional data visualization as\nwe can observe.\n\nFor this reason, the profiles of the surfaces, which are contained in the\nfirst two generated functional data objects, are plotted below, to help to\nvisualize the data.\n\n"
      ]
    },
    {
      "cell_type": "code",
      "execution_count": null,
      "metadata": {
        "collapsed": false
      },
      "outputs": [],
      "source": [
        "fd.plot()"
      ]
    },
    {
      "cell_type": "markdown",
      "metadata": {},
      "source": [
        "To terminate the example, the instantiation of the\n:class:`~skfda.exploratory.visualization.SurfaceBoxplot` object is\nmade, showing the surface boxplot which corresponds to our FDataGrid\n\n"
      ]
    },
    {
      "cell_type": "code",
      "execution_count": null,
      "metadata": {
        "collapsed": false
      },
      "outputs": [],
      "source": [
        "surfaceBoxplot = SurfaceBoxplot(fd_2)\nsurfaceBoxplot.plot()"
      ]
    },
    {
      "cell_type": "markdown",
      "metadata": {},
      "source": [
        "The surface boxplot contains the median, the central envelope and the\noutlying envelope plotted from darker to lighter colors, although they can\nbe customized.\n\nAnalogous to the procedure followed before of plotting the three-dimensional\ndata and their correponding profiles, we can obtain also the functional\nboxplot for one-dimensional data with the\n:class:`~skfda.exploratory.visualization.Boxplot` passing as arguments the\nfirst FdataGrid object. The profile of the surface boxplot is obtained.\n\n"
      ]
    },
    {
      "cell_type": "code",
      "execution_count": null,
      "metadata": {
        "collapsed": false
      },
      "outputs": [],
      "source": [
        "boxplot1 = Boxplot(fd)\nboxplot1.plot()"
      ]
    }
  ],
  "metadata": {
    "kernelspec": {
      "display_name": "Python 3",
      "language": "python",
      "name": "python3"
    },
    "language_info": {
      "codemirror_mode": {
        "name": "ipython",
        "version": 3
      },
      "file_extension": ".py",
      "mimetype": "text/x-python",
      "name": "python",
      "nbconvert_exporter": "python",
      "pygments_lexer": "ipython3",
      "version": "3.7.9"
    }
  },
  "nbformat": 4,
  "nbformat_minor": 0
}