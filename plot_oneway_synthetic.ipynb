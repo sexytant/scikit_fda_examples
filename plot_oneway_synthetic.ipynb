{
  "cells": [
    {
      "cell_type": "code",
      "execution_count": null,
      "metadata": {
        "collapsed": false
      },
      "outputs": [],
      "source": [
        "%matplotlib inline"
      ]
    },
    {
      "cell_type": "markdown",
      "metadata": {},
      "source": [
        "\n# One-way functional ANOVA with synthetic data\n\nThis example shows how to perform a functional one-way ANOVA test with\nsynthetic data.\n"
      ]
    },
    {
      "cell_type": "code",
      "execution_count": null,
      "metadata": {
        "collapsed": false
      },
      "outputs": [],
      "source": [
        "# Author: David Garc\u00eda Fern\u00e1ndez\n# License: MIT\n\n\nfrom skfda.datasets import make_gaussian_process\nfrom skfda.inference.anova import oneway_anova\nfrom skfda.misc.covariances import WhiteNoise\nfrom skfda.representation import FDataGrid\n\nimport numpy as np"
      ]
    },
    {
      "cell_type": "markdown",
      "metadata": {},
      "source": [
        "**One-way ANOVA** (analysis of variance) is a test that can be used to\ncompare the means of different samples of data.\nLet $X_{ij}(t), j=1, \\dots, n_i$ be trajectories corresponding to\n$k$ independent samples $(i=1,\\dots,k)$ and let\n$E(X_i(t)) = m_i(t)$. Thus, the null hypothesis in the statistical\ntest is:\n\n\\begin{align}H_0: m_1(t) = \\dots = m_k(t)\\end{align}\n\nIn this example we will explain the nature of ANOVA method and its behavior\nunder certain conditions simulating data. Specifically, we will generate\nthree different trajectories, for each one we will simulate a stochastic\nprocess by adding to them white noise. The main objective of the\ntest is to illustrate the differences in the results of the ANOVA method\nwhen the covariance function of the brownian processes changes.\n\n"
      ]
    },
    {
      "cell_type": "markdown",
      "metadata": {},
      "source": [
        "First, the means for the future processes are drawn.\n\n"
      ]
    },
    {
      "cell_type": "code",
      "execution_count": null,
      "metadata": {
        "collapsed": false
      },
      "outputs": [],
      "source": [
        "n_samples = 10\nn_features = 100\nn_groups = 3\nstart = 0\nstop = 1\n\nt = np.linspace(start, stop, n_features)\n\nm1 = t * (1 - t) ** 5\nm2 = t ** 2 * (1 - t) ** 4\nm3 = t ** 3 * (1 - t) ** 3\n\n_ = FDataGrid([m1, m2, m3],\n              dataset_name=\"Means to be used in the simulation\").plot()"
      ]
    },
    {
      "cell_type": "markdown",
      "metadata": {},
      "source": [
        "A total of ``n_samples`` trajectories will be created for each mean, so an\narray of labels is created to identify them when plotting.\n\n"
      ]
    },
    {
      "cell_type": "code",
      "execution_count": null,
      "metadata": {
        "collapsed": false
      },
      "outputs": [],
      "source": [
        "groups = np.full(n_samples * n_groups, 'Sample 1')\ngroups[10:20] = 'Sample 2'\ngroups[20:] = 'Sample 3'"
      ]
    },
    {
      "cell_type": "markdown",
      "metadata": {},
      "source": [
        "First simulation uses a low $\\sigma^2 = 0.01$ value. In this case the\ndifferences between the means of each group should be clear, and the\np-value for the test should be near to zero.\n\n"
      ]
    },
    {
      "cell_type": "code",
      "execution_count": null,
      "metadata": {
        "collapsed": false
      },
      "outputs": [],
      "source": [
        "sigma2 = 0.01\ncov = WhiteNoise(variance=sigma2)\n\nfd1 = make_gaussian_process(n_samples, mean=m1, cov=cov,\n                            n_features=n_features, random_state=1, start=start,\n                            stop=stop)\nfd2 = make_gaussian_process(n_samples, mean=m2, cov=cov,\n                            n_features=n_features, random_state=2, start=start,\n                            stop=stop)\nfd3 = make_gaussian_process(n_samples, mean=m3, cov=cov,\n                            n_features=n_features, random_state=3, start=start,\n                            stop=stop)\nstat, p_val = oneway_anova(fd1, fd2, fd3, random_state=4)\nprint(\"Statistic: {:.3f}\".format(stat))\nprint(\"p-value: {:.3f}\".format(p_val))"
      ]
    },
    {
      "cell_type": "markdown",
      "metadata": {},
      "source": [
        "In the following, the same process will be followed incrementing sigma\nvalue, this way the differences between the averages of each group will be\nlower and the p-values will increase (the null hypothesis will be harder to\nrefuse).\n\n"
      ]
    },
    {
      "cell_type": "markdown",
      "metadata": {},
      "source": [
        "Plot for $\\sigma^2 = 0.1$:\n\n"
      ]
    },
    {
      "cell_type": "code",
      "execution_count": null,
      "metadata": {
        "collapsed": false
      },
      "outputs": [],
      "source": [
        "sigma2 = 0.1\ncov = WhiteNoise(variance=sigma2)\n\nfd1 = make_gaussian_process(n_samples, mean=m1, cov=cov,\n                            n_features=n_features, random_state=1, start=t[0],\n                            stop=t[-1])\nfd2 = make_gaussian_process(n_samples, mean=m2, cov=cov,\n                            n_features=n_features, random_state=2, start=t[0],\n                            stop=t[-1])\nfd3 = make_gaussian_process(n_samples, mean=m3, cov=cov,\n                            n_features=n_features, random_state=3, start=t[0],\n                            stop=t[-1])\n\nstat, p_val = oneway_anova(fd1, fd2, fd3, random_state=4)\nprint(\"Statistic: {:.3f}\".format(stat))\nprint(\"p-value: {:.3f}\".format(p_val))"
      ]
    },
    {
      "cell_type": "markdown",
      "metadata": {},
      "source": [
        "Plot for $\\sigma^2 = 1$:\n\n"
      ]
    },
    {
      "cell_type": "code",
      "execution_count": null,
      "metadata": {
        "collapsed": false
      },
      "outputs": [],
      "source": [
        "sigma2 = 1\ncov = WhiteNoise(variance=sigma2)\n\nfd1 = make_gaussian_process(n_samples, mean=m1, cov=cov,\n                            n_features=n_features, random_state=1, start=t[0],\n                            stop=t[-1])\nfd2 = make_gaussian_process(n_samples, mean=m2, cov=cov,\n                            n_features=n_features, random_state=2, start=t[0],\n                            stop=t[-1])\nfd3 = make_gaussian_process(n_samples, mean=m3, cov=cov,\n                            n_features=n_features, random_state=3, start=t[0],\n                            stop=t[-1])\n\nstat, p_val = oneway_anova(fd1, fd2, fd3, random_state=4)\nprint(\"Statistic: {:.3f}\".format(stat))\nprint(\"p-value: {:.3f}\".format(p_val))"
      ]
    },
    {
      "cell_type": "markdown",
      "metadata": {},
      "source": [
        "**References:**\n\n [1] Antonio Cuevas, Manuel Febrero-Bande, and Ricardo Fraiman. \"An anova test\n for functional data\". *Computational Statistics  Data Analysis*,\n 47:111-112, 02 2004\n\n"
      ]
    }
  ],
  "metadata": {
    "kernelspec": {
      "display_name": "Python 3",
      "language": "python",
      "name": "python3"
    },
    "language_info": {
      "codemirror_mode": {
        "name": "ipython",
        "version": 3
      },
      "file_extension": ".py",
      "mimetype": "text/x-python",
      "name": "python",
      "nbconvert_exporter": "python",
      "pygments_lexer": "ipython3",
      "version": "3.7.9"
    }
  },
  "nbformat": 4,
  "nbformat_minor": 0
}