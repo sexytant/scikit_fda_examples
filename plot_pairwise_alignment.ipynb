{
  "cells": [
    {
      "cell_type": "code",
      "execution_count": null,
      "metadata": {
        "collapsed": false
      },
      "outputs": [],
      "source": [
        "%matplotlib inline"
      ]
    },
    {
      "cell_type": "markdown",
      "metadata": {},
      "source": [
        "\n# Pairwise alignment\n\nShows the usage of the elastic registration to perform a pairwise alignment.\n"
      ]
    },
    {
      "cell_type": "code",
      "execution_count": null,
      "metadata": {
        "collapsed": false
      },
      "outputs": [],
      "source": [
        "# Author: Pablo Marcos Manch\u00f3n\n# License: MIT\n\n# sphinx_gallery_thumbnail_number = 5\n\n\nimport matplotlib.colors as clr\nimport matplotlib.pyplot as plt\nimport numpy as np\n\nimport skfda\nfrom skfda.datasets import make_multimodal_samples\nfrom skfda.preprocessing.registration import (\n    FisherRaoElasticRegistration,\n    invert_warping,\n)"
      ]
    },
    {
      "cell_type": "markdown",
      "metadata": {},
      "source": [
        "Given any two functions $f$ and $g$, we define their\npairwise alignment or  registration to be the problem of finding a warping\nfunction $\\gamma^*$ such that a certain energy term\n$E[f, g \\circ \\gamma]$ is minimized\n:footcite:p:`marron++_2015_functional`.\n\n\\begin{align}\\gamma^*= \\arg \\min_{\\gamma \\in \\Gamma} E[f \\circ \\gamma, g]\\end{align}\n\nIn the case of elastic registration it is taken as energy function the\nFisher-Rao distance with a penalisation term, due to the property of\ninvariance to reparameterizations of warpings functions\n:footcite:p:`srivastava+klassen_2016_analysis_elastic`.\n\n\\begin{align}E[f \\circ \\gamma, g] = d_{FR} (f \\circ \\gamma, g)\\end{align}\n\nFirstly, we will create two unimodal samples, $f$ and $g$,\ndefined in [0, 1] wich will be used to show the elastic registration.\nDue to the similarity of these curves can be aligned almost perfectly\nbetween them.\n\n"
      ]
    },
    {
      "cell_type": "code",
      "execution_count": null,
      "metadata": {
        "collapsed": false
      },
      "outputs": [],
      "source": [
        "# Samples with modes in 1/3 and 2/3\nfd = make_multimodal_samples(\n    n_samples=2,\n    modes_location=[1 / 3, 2 / 3],\n    random_state=1,\n    start=0,\n    mode_std=0.01,\n)\n\nfig = fd.plot()\nfig.axes[0].legend(['$f$', '$g$'])\nplt.show()"
      ]
    },
    {
      "cell_type": "markdown",
      "metadata": {},
      "source": [
        "In this example $g$ will be used as template and $f$ will be\naligned to it. In the following figure it is shown the result of the\nregistration process, wich can be computed using\n:class:`~skfda.preprocessing.registration.FisherRaoElasticRegistration`.\n\n"
      ]
    },
    {
      "cell_type": "code",
      "execution_count": null,
      "metadata": {
        "collapsed": false
      },
      "outputs": [],
      "source": [
        "f, g = fd[0], fd[1]\n\nelastic_registration = FisherRaoElasticRegistration(template=g)\n\n\n# Aligns f to g\nf_align = elastic_registration.fit_transform(f)\n\nfig = fd.plot()\nf_align.plot(fig=fig, color='C0', linestyle='--')\n\n\n# Legend\nfig.axes[0].legend(['$f$', '$g$', r'$f \\circ \\gamma $'])\nplt.show()"
      ]
    },
    {
      "cell_type": "markdown",
      "metadata": {},
      "source": [
        "The non-linear transformation $\\gamma$ applied to $f$ in\nthe alignment is stored in the attribute `warping_`.\n\n"
      ]
    },
    {
      "cell_type": "code",
      "execution_count": null,
      "metadata": {
        "collapsed": false
      },
      "outputs": [],
      "source": [
        "# Warping used in the last transformation\nwarping = elastic_registration.warping_\nfig = warping.plot()\n\n# Plot identity\nt = np.linspace(0, 1)\nfig.axes[0].plot(t, t, linestyle='--')\n\n# Legend\nfig.axes[0].legend([r'$\\gamma$', r'$\\gamma_{id}$'])\nplt.show()"
      ]
    },
    {
      "cell_type": "markdown",
      "metadata": {},
      "source": [
        "The transformation necessary to align $g$ to $f$ will be the\ninverse of the original warping function, $\\gamma^{-1}$.\nThis fact is a consequence of the use of the Fisher-Rao metric as energy\nfunction.\n\n"
      ]
    },
    {
      "cell_type": "code",
      "execution_count": null,
      "metadata": {
        "collapsed": false
      },
      "outputs": [],
      "source": [
        "warping_inverse = invert_warping(warping)\n\nfig = fd.plot(label='$f$')\ng.compose(warping_inverse).plot(fig=fig, color='C1', linestyle='--')\n\n\n# Legend\nfig.axes[0].legend(['$f$', '$g$', r'$g \\circ \\gamma^{-1} $'])\nplt.show()"
      ]
    },
    {
      "cell_type": "markdown",
      "metadata": {},
      "source": [
        "The amount of deformation used in the registration can be controlled by\nusing a variation of the metric with a penalty term\n$\\lambda \\mathcal{R}(\\gamma)$ wich will reduce the elasticity of the\nmetric.\n\nThe following figure shows the original curves and the result to the\nalignment varying $\\lambda$ from 0 to 0.2.\n\n"
      ]
    },
    {
      "cell_type": "code",
      "execution_count": null,
      "metadata": {
        "collapsed": false
      },
      "outputs": [],
      "source": [
        "# Values of lambda\npenalties = np.linspace(0, 0.2, 20)\n\n# Creation of a color gradient\ncmap = clr.LinearSegmentedColormap.from_list('custom cmap', ['C1', 'C0'])\ncolor = cmap(0.2 + 3 * penalties)\n\nfig = plt.figure()\nax = fig.add_subplot(1, 1, 1)\n\n\nfor penalty, c in zip(penalties, color):\n\n    elastic_registration.set_params(penalty=penalty)\n    elastic_registration.transform(f).plot(fig, color=c)\n\n\nf.plot(fig=fig, color='C0', linewidth=2, label='$f$')\ng.plot(fig=fig, color='C1', linewidth=2, label='$g$')\n\n# Legend\nfig.axes[0].legend()\nplt.show()"
      ]
    },
    {
      "cell_type": "markdown",
      "metadata": {},
      "source": [
        "This phenomenon of loss of elasticity is clearly observed in\nthe warpings used, since as the term of penalty increases, the functions\nare closer to $\\gamma_{id}$.\n\n"
      ]
    },
    {
      "cell_type": "code",
      "execution_count": null,
      "metadata": {
        "collapsed": false
      },
      "outputs": [],
      "source": [
        "fig = plt.figure()\nax = fig.add_subplot(1, 1, 1)\n\nfor penalty, c in zip(penalties, color):\n    elastic_registration.set_params(penalty=penalty)\n    elastic_registration.transform(f)\n    elastic_registration.warping_.plot(fig, color=c)\n\n# Plots identity\nfig.axes[0].plot(t, t, color='C0', linestyle=\"--\")\nplt.show()"
      ]
    },
    {
      "cell_type": "markdown",
      "metadata": {},
      "source": [
        "We can perform the pairwise of multiple curves at once. We can use a single\ncurve as template to align a set of samples to it or a set of\ntemplates to make the alignemnt the two sets.\n\nIn the elastic registration example it is shown the alignment of multiple\ncurves to the same template.\n\nWe will build two sets with 3 curves each, $\\{f_i\\}$ and\n$\\{g_i\\}$.\n\n"
      ]
    },
    {
      "cell_type": "code",
      "execution_count": null,
      "metadata": {
        "collapsed": false
      },
      "outputs": [],
      "source": [
        "# Creation of the 2 sets of functions\nstate = np.random.RandomState(0)\n\nlocation1 = state.normal(loc=-0.3, scale=0.1, size=3)\nfd = skfda.datasets.make_multimodal_samples(\n    n_samples=3,\n    modes_location=location1,\n    noise=0.001,\n    random_state=1,\n)\n\nlocation2 = state.normal(\n    loc=0.3,\n    scale=0.1,\n    size=3,\n)\ng = skfda.datasets.make_multimodal_samples(\n    n_samples=3,\n    modes_location=location2,\n    random_state=2,\n)\n\n# Plot of the sets\nfig = fd.plot(color=\"C0\", label=\"$f_i$\")\ng.plot(fig=fig, color=\"C1\", label=\"$g_i$\")\n\nlabels = fig.axes[0].get_lines()\nfig.axes[0].legend(handles=[labels[0], labels[-1]])\nplt.show()"
      ]
    },
    {
      "cell_type": "markdown",
      "metadata": {},
      "source": [
        "The following figure shows the result of the pairwise alignment of\n$\\{f_i\\}$ to $\\{g_i\\}$.\n\n"
      ]
    },
    {
      "cell_type": "code",
      "execution_count": null,
      "metadata": {
        "collapsed": false
      },
      "outputs": [],
      "source": [
        "# Registration of the sets\nelastic_registration = FisherRaoElasticRegistration(template=g)\n\nfd_registered = elastic_registration.fit_transform(fd)\n\n# Plot of the curves\nfig = fd.plot(color=\"C0\", label=\"$f_i$\")\nl1 = fig.axes[0].get_lines()[-1]\ng.plot(fig=fig, color=\"C1\", label=\"$g_i$\")\nl2 = fig.axes[0].get_lines()[-1]\nfd_registered.plot(\n    fig=fig,\n    color=\"C0\",\n    linestyle=\"--\",\n    label=r\"$f_i \\circ \\gamma_i$\",\n)\nl3 = fig.axes[0].get_lines()[-1]\n\nfig.axes[0].legend(handles=[l1, l2, l3])\nplt.show()"
      ]
    },
    {
      "cell_type": "markdown",
      "metadata": {},
      "source": [
        ".. footbibliography::\n\n"
      ]
    }
  ],
  "metadata": {
    "kernelspec": {
      "display_name": "Python 3",
      "language": "python",
      "name": "python3"
    },
    "language_info": {
      "codemirror_mode": {
        "name": "ipython",
        "version": 3
      },
      "file_extension": ".py",
      "mimetype": "text/x-python",
      "name": "python",
      "nbconvert_exporter": "python",
      "pygments_lexer": "ipython3",
      "version": "3.7.9"
    }
  },
  "nbformat": 4,
  "nbformat_minor": 0
}