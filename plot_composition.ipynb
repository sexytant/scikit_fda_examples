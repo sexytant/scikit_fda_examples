{
 "cells": [
  {
   "cell_type": "code",
   "execution_count": null,
   "metadata": {
    "collapsed": false,
    "jupyter": {
     "outputs_hidden": false
    }
   },
   "outputs": [],
   "source": [
    "%matplotlib inline"
   ]
  },
  {
   "cell_type": "markdown",
   "metadata": {},
   "source": [
    "\n",
    "# Function composition\n",
    "\n",
    "This example shows the composition of multidimensional FDataGrids.\n"
   ]
  },
  {
   "cell_type": "code",
   "execution_count": null,
   "metadata": {
    "collapsed": false,
    "jupyter": {
     "outputs_hidden": false
    }
   },
   "outputs": [],
   "source": [
    "# Author: Pablo Marcos Manchón\n",
    "# License: MIT\n",
    "\n",
    "# sphinx_gallery_thumbnail_number = 3\n",
    "\n",
    "import skfda\n",
    "\n",
    "from mpl_toolkits.mplot3d import axes3d\n",
    "\n",
    "import numpy as np"
   ]
  },
  {
   "cell_type": "markdown",
   "metadata": {},
   "source": [
    "Function composition can be applied to our data once is in functional\n",
    "form using the method :func:`~skfda.representation.FData.compose`.\n",
    "\n",
    "Let $f: X \\rightarrow Y$ and $g: Y \\rightarrow Z$, the\n",
    "composition will produce a third function $g \\circ f: X \\rightarrow Z$\n",
    "which maps $x \\in X$ to $g(f(x))$ [1].\n",
    "\n",
    "In `sphx_glr_auto_examples_plot_landmark_registration.py` it is shown\n",
    "the simplest case, where it is used to apply a transformation of the time\n",
    "scale of unidimensional data to register its features.\n",
    "\n",
    "The following example shows the basic usage applied to a surface and a\n",
    "curve, although the method will work for data with arbitrary dimensions to.\n",
    "\n",
    "Firstly we will create a data object containing a surface\n",
    "$g: \\mathbb{R}^2 \\rightarrow \\mathbb{R}$.\n",
    "\n",
    "Constructs example surface\n",
    "\n"
   ]
  },
  {
   "cell_type": "code",
   "execution_count": null,
   "metadata": {
    "collapsed": false,
    "jupyter": {
     "outputs_hidden": false
    }
   },
   "outputs": [],
   "source": [
    "X, Y, Z = axes3d.get_test_data(1.2)\n",
    "data_matrix = [Z.T]\n",
    "grid_points = [X[0, :], Y[:, 0]]\n",
    "\n",
    "g = skfda.FDataGrid(data_matrix, grid_points)\n",
    "\n",
    "# Sets cubic interpolation\n",
    "g.interpolation = skfda.representation.interpolation.SplineInterpolation(\n",
    "    interpolation_order=3)\n",
    "\n",
    "# Plots the surface\n",
    "g.plot()"
   ]
  },
  {
   "cell_type": "markdown",
   "metadata": {},
   "source": [
    "We will create a parametric curve\n",
    "$f(t)=(10 \\, \\cos(t), 10 \\, sin(t))$. The result of the composition,\n",
    "$g \\circ f:\\mathbb{R} \\rightarrow \\mathbb{R}$ will be another\n",
    "functional object with the values of $g$ along the path given by\n",
    "$f$.\n",
    "\n",
    "\n"
   ]
  },
  {
   "cell_type": "code",
   "execution_count": null,
   "metadata": {
    "collapsed": false,
    "jupyter": {
     "outputs_hidden": false
    }
   },
   "outputs": [],
   "source": [
    "# Creation of circunference in parametric form\n",
    "t = np.linspace(0, 2 * np.pi, 100)\n",
    "\n",
    "data_matrix = [10 * np.array([np.cos(t), np.sin(t)]).T]\n",
    "f = skfda.FDataGrid(data_matrix, t)\n",
    "\n",
    "# Composition of function\n",
    "gof = g.compose(f)\n",
    "\n",
    "gof.plot()"
   ]
  },
  {
   "cell_type": "markdown",
   "metadata": {},
   "source": [
    "In the following chart it is plotted the curve\n",
    "$(10 \\, \\cos(t), 10 \\, sin(t), g \\circ f (t))$ and the surface.\n",
    "\n",
    "\n"
   ]
  },
  {
   "cell_type": "code",
   "execution_count": null,
   "metadata": {
    "collapsed": false,
    "jupyter": {
     "outputs_hidden": false
    }
   },
   "outputs": [],
   "source": [
    "# Plots surface\n",
    "fig = g.plot(alpha=.8)\n",
    "\n",
    "# Plots path along the surface\n",
    "path = f(t)[0]\n",
    "fig.axes[0].plot(path[:, 0], path[:, 1], gof(t)[0, ..., 0], color=\"orange\")\n",
    "\n",
    "fig"
   ]
  },
  {
   "cell_type": "markdown",
   "metadata": {},
   "source": [
    "[1] Function composition `https://en.wikipedia.org/wiki/Function_composition\n",
    "<https://en.wikipedia.org/wiki/Function_composition>`_.\n",
    "\n",
    "\n"
   ]
  }
 ],
 "metadata": {
  "kernelspec": {
   "display_name": "Python 3 (ipykernel)",
   "language": "python",
   "name": "python3"
  },
  "language_info": {
   "codemirror_mode": {
    "name": "ipython",
    "version": 3
   },
   "file_extension": ".py",
   "mimetype": "text/x-python",
   "name": "python",
   "nbconvert_exporter": "python",
   "pygments_lexer": "ipython3",
   "version": "3.7.9"
  }
 },
 "nbformat": 4,
 "nbformat_minor": 4
}
