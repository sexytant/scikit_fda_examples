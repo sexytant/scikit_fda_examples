{
  "cells": [
    {
      "cell_type": "code",
      "execution_count": null,
      "metadata": {
        "collapsed": false
      },
      "outputs": [],
      "source": [
        "%matplotlib inline"
      ]
    },
    {
      "cell_type": "markdown",
      "metadata": {},
      "source": [
        "\n# Magnitude-Shape Plot\n\nShows the use of the MS-Plot applied to the Canadian Weather dataset.\n"
      ]
    },
    {
      "cell_type": "code",
      "execution_count": null,
      "metadata": {
        "collapsed": false
      },
      "outputs": [],
      "source": [
        "# Author: Amanda Hernando Bernab\u00e9\n# License: MIT\n\n# sphinx_gallery_thumbnail_number = 2\n\nimport matplotlib.pyplot as plt\nimport numpy as np\n\nfrom skfda import datasets\nfrom skfda.exploratory.depth import IntegratedDepth\nfrom skfda.exploratory.depth.multivariate import SimplicialDepth\nfrom skfda.exploratory.visualization import MagnitudeShapePlot"
      ]
    },
    {
      "cell_type": "markdown",
      "metadata": {},
      "source": [
        "First, the Canadian Weather dataset is downloaded from the package 'fda' in\nCRAN. It contains a FDataGrid with daily temperatures and precipitations,\nthat is, it has a 2-dimensional image. We are interested only in the daily\naverage temperatures, so we extract the first coordinate.\n\n"
      ]
    },
    {
      "cell_type": "code",
      "execution_count": null,
      "metadata": {
        "collapsed": false
      },
      "outputs": [],
      "source": [
        "X, y = datasets.fetch_weather(return_X_y=True, as_frame=True)\nfd = X.iloc[:, 0].values\nfd_temperatures = fd.coordinates[0]\ntarget = y.values"
      ]
    },
    {
      "cell_type": "markdown",
      "metadata": {},
      "source": [
        "The data is plotted to show the curves we are working with. They are divided\naccording to the target. In this case, it includes the different climates to\nwhich the weather stations belong.\n\n"
      ]
    },
    {
      "cell_type": "code",
      "execution_count": null,
      "metadata": {
        "collapsed": false
      },
      "outputs": [],
      "source": [
        "# Each climate is assigned a color. Defaults to grey.\ncolormap = plt.cm.get_cmap('seismic')\nlabel_names = target.categories\nnlabels = len(label_names)\nlabel_colors = colormap(np.arange(nlabels) / (nlabels - 1))\n\nfd_temperatures.plot(\n    group=target.codes,\n    group_colors=label_colors,\n    group_names=label_names,\n)"
      ]
    },
    {
      "cell_type": "markdown",
      "metadata": {},
      "source": [
        "The MS-Plot is generated. In order to show the results, the\n:func:`~skfda.exploratory.visualization.MagnitudeShapePlot.plot` method\nis used. Note that the colors have been specified before to distinguish\nbetween outliers or not. In particular the tones of the default colormap,\n(which is 'seismic' and can be customized), are assigned.\n\n"
      ]
    },
    {
      "cell_type": "code",
      "execution_count": null,
      "metadata": {
        "collapsed": false
      },
      "outputs": [],
      "source": [
        "msplot = MagnitudeShapePlot(\n    fd_temperatures,\n    multivariate_depth=SimplicialDepth(),\n)\n\ncolor = 0.3\noutliercol = 0.7\n\nmsplot.color = color\nmsplot.outliercol = outliercol\nmsplot.plot()"
      ]
    },
    {
      "cell_type": "markdown",
      "metadata": {},
      "source": [
        "To show the utility of the plot, the curves are plotted according to the\ndistinction made by the MS-Plot (outliers or not) with the same colors.\n\n"
      ]
    },
    {
      "cell_type": "code",
      "execution_count": null,
      "metadata": {
        "collapsed": false
      },
      "outputs": [],
      "source": [
        "fd_temperatures.plot(\n    group=msplot.outliers.astype(int),\n    group_colors=msplot.colormap([color, outliercol]),\n    group_names=['nonoutliers', 'outliers'],\n)"
      ]
    },
    {
      "cell_type": "markdown",
      "metadata": {},
      "source": [
        "We can observe that most of the curves  pointed as outliers belong either to\nthe Pacific or Arctic climates which are not the common ones found in\nCanada. The Pacific temperatures are much smoother and the Arctic ones much\nlower, differing from the rest in shape and magnitude respectively.\n\nThere are two curves from the Arctic climate which are not pointed as\noutliers but in the MS-Plot, they appear further left from the central\npoints. This behaviour can be modified specifying the parameter alpha.\n\nNow we use the default multivariate depth from\n:func:`~skfda.exploratory.depth.IntegratedDepth` in the\nMS-Plot.\n\n"
      ]
    },
    {
      "cell_type": "code",
      "execution_count": null,
      "metadata": {
        "collapsed": false
      },
      "outputs": [],
      "source": [
        "msplot = MagnitudeShapePlot(\n    fd_temperatures,\n    multivariate_depth=IntegratedDepth().multivariate_depth,\n)\n\nmsplot.color = color\nmsplot.outliercol = outliercol\nmsplot.plot()"
      ]
    },
    {
      "cell_type": "markdown",
      "metadata": {},
      "source": [
        "We can observe that almost none of the samples are pointed as outliers.\nNevertheless, if we group them in three groups according to their position\nin the MS-Plot, the result is the expected one. Those samples at the left\n(larger deviation in the mean directional outlyingness) correspond to the\nArctic climate, which has lower temperatures, and those on top (larger\ndeviation in the directional outlyingness) to the Pacific one, which has\nsmoother curves.\n\n"
      ]
    },
    {
      "cell_type": "code",
      "execution_count": null,
      "metadata": {
        "collapsed": false
      },
      "outputs": [],
      "source": [
        "group1 = np.where(msplot.points[:, 0] < -0.6)\ngroup2 = np.where(msplot.points[:, 1] > 0.12)\n\ncolors = np.copy(msplot.outliers).astype(float)\ncolors[:] = color\ncolors[group1] = outliercol\ncolors[group2] = 0.9\n\nfig = plt.figure()\nax = fig.add_subplot(1, 1, 1)\nax.scatter(msplot.points[:, 0], msplot.points[:, 1], c=colormap(colors))\nax.set_title(\"MS-Plot\")\nax.set_xlabel(\"magnitude outlyingness\")\nax.set_ylabel(\"shape outlyingness\")\n\nlabels = np.copy(msplot.outliers.astype(int))\nlabels[group1] = 1\nlabels[group2] = 2"
      ]
    },
    {
      "cell_type": "markdown",
      "metadata": {},
      "source": [
        "We now plot the curves with their corresponding color:\n\n"
      ]
    },
    {
      "cell_type": "code",
      "execution_count": null,
      "metadata": {
        "collapsed": false
      },
      "outputs": [],
      "source": [
        "fd_temperatures.plot(\n    group=labels,\n    group_colors=colormap([color, outliercol, 0.9]),\n)"
      ]
    }
  ],
  "metadata": {
    "kernelspec": {
      "display_name": "Python 3",
      "language": "python",
      "name": "python3"
    },
    "language_info": {
      "codemirror_mode": {
        "name": "ipython",
        "version": 3
      },
      "file_extension": ".py",
      "mimetype": "text/x-python",
      "name": "python",
      "nbconvert_exporter": "python",
      "pygments_lexer": "ipython3",
      "version": "3.7.9"
    }
  },
  "nbformat": 4,
  "nbformat_minor": 0
}